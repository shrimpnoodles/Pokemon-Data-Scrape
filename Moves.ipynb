{
 "cells": [
  {
   "cell_type": "code",
   "execution_count": 3,
   "id": "27d00044-f5f3-4a39-8125-8fa98beba803",
   "metadata": {},
   "outputs": [],
   "source": [
    "import pandas as pd"
   ]
  },
  {
   "cell_type": "code",
   "execution_count": 4,
   "id": "a4d386da-81d5-47b5-a3fc-6a7ed66a172f",
   "metadata": {},
   "outputs": [],
   "source": [
    "#importing moves dataset from kaggle\n",
    "pokeset_w_moves = \"/Users/felix/Downloads/archive(2)/pokedex.csv\""
   ]
  },
  {
   "cell_type": "code",
   "execution_count": 5,
   "id": "fcd67e58-81b5-4411-bca5-cf18b92ec6ad",
   "metadata": {},
   "outputs": [],
   "source": [
    "poke_moves_df = pd.read_csv(pokeset_w_moves)"
   ]
  },
  {
   "cell_type": "code",
   "execution_count": 6,
   "id": "14b47d75-2ffa-49f4-8dda-221b3a31f85c",
   "metadata": {},
   "outputs": [
    {
     "data": {
      "text/html": [
       "<div>\n",
       "<style scoped>\n",
       "    .dataframe tbody tr th:only-of-type {\n",
       "        vertical-align: middle;\n",
       "    }\n",
       "\n",
       "    .dataframe tbody tr th {\n",
       "        vertical-align: top;\n",
       "    }\n",
       "\n",
       "    .dataframe thead th {\n",
       "        text-align: right;\n",
       "    }\n",
       "</style>\n",
       "<table border=\"1\" class=\"dataframe\">\n",
       "  <thead>\n",
       "    <tr style=\"text-align: right;\">\n",
       "      <th></th>\n",
       "      <th>Id</th>\n",
       "      <th>Name</th>\n",
       "      <th>Type 1</th>\n",
       "      <th>Type 2</th>\n",
       "      <th>Abilities</th>\n",
       "      <th>Category</th>\n",
       "      <th>Height (ft)</th>\n",
       "      <th>Height (m)</th>\n",
       "      <th>Weight (lbs)</th>\n",
       "      <th>Weight (kg)</th>\n",
       "      <th>...</th>\n",
       "      <th>Egg Steps</th>\n",
       "      <th>Exp Group</th>\n",
       "      <th>Total</th>\n",
       "      <th>HP</th>\n",
       "      <th>Attack</th>\n",
       "      <th>Defense</th>\n",
       "      <th>Sp. Attack</th>\n",
       "      <th>Sp. Defense</th>\n",
       "      <th>Speed</th>\n",
       "      <th>Moves</th>\n",
       "    </tr>\n",
       "  </thead>\n",
       "  <tbody>\n",
       "    <tr>\n",
       "      <th>0</th>\n",
       "      <td>1</td>\n",
       "      <td>Bulbasaur</td>\n",
       "      <td>Grass</td>\n",
       "      <td>Poison</td>\n",
       "      <td>Overgrow,Chlorophyll</td>\n",
       "      <td>Seed Pokémon</td>\n",
       "      <td>2'04\"</td>\n",
       "      <td>0.7</td>\n",
       "      <td>15.2</td>\n",
       "      <td>6.9</td>\n",
       "      <td>...</td>\n",
       "      <td>5120</td>\n",
       "      <td>Medium Slow</td>\n",
       "      <td>318</td>\n",
       "      <td>45</td>\n",
       "      <td>49</td>\n",
       "      <td>49</td>\n",
       "      <td>65</td>\n",
       "      <td>65</td>\n",
       "      <td>45</td>\n",
       "      <td>{'Tackle': {'Type': 'Normal', 'Level': '—', 'P...</td>\n",
       "    </tr>\n",
       "    <tr>\n",
       "      <th>1</th>\n",
       "      <td>2</td>\n",
       "      <td>Ivysaur</td>\n",
       "      <td>Grass</td>\n",
       "      <td>Poison</td>\n",
       "      <td>Overgrow,Chlorophyll</td>\n",
       "      <td>Seed Pokémon</td>\n",
       "      <td>3'03\"</td>\n",
       "      <td>1.0</td>\n",
       "      <td>28.7</td>\n",
       "      <td>13.0</td>\n",
       "      <td>...</td>\n",
       "      <td>5120</td>\n",
       "      <td>Medium Slow</td>\n",
       "      <td>405</td>\n",
       "      <td>60</td>\n",
       "      <td>62</td>\n",
       "      <td>63</td>\n",
       "      <td>80</td>\n",
       "      <td>80</td>\n",
       "      <td>60</td>\n",
       "      <td>{'Tackle': {'Type': 'Normal', 'Level': '—', 'P...</td>\n",
       "    </tr>\n",
       "    <tr>\n",
       "      <th>2</th>\n",
       "      <td>3</td>\n",
       "      <td>Venusaur</td>\n",
       "      <td>Grass</td>\n",
       "      <td>Poison</td>\n",
       "      <td>Overgrow,Chlorophyll</td>\n",
       "      <td>Seed Pokémon</td>\n",
       "      <td>6'07\"</td>\n",
       "      <td>2.0</td>\n",
       "      <td>220.5</td>\n",
       "      <td>100.0</td>\n",
       "      <td>...</td>\n",
       "      <td>5120</td>\n",
       "      <td>Medium Slow</td>\n",
       "      <td>525</td>\n",
       "      <td>80</td>\n",
       "      <td>82</td>\n",
       "      <td>83</td>\n",
       "      <td>100</td>\n",
       "      <td>100</td>\n",
       "      <td>80</td>\n",
       "      <td>{'Petal Dance': {'Type': 'Grass', 'Level': 'Ev...</td>\n",
       "    </tr>\n",
       "    <tr>\n",
       "      <th>3</th>\n",
       "      <td>4</td>\n",
       "      <td>Charmander</td>\n",
       "      <td>Fire</td>\n",
       "      <td>NaN</td>\n",
       "      <td>Blaze,Solar Power</td>\n",
       "      <td>Lizard Pokémon</td>\n",
       "      <td>2'00\"</td>\n",
       "      <td>0.6</td>\n",
       "      <td>18.7</td>\n",
       "      <td>8.5</td>\n",
       "      <td>...</td>\n",
       "      <td>5120</td>\n",
       "      <td>Medium Slow</td>\n",
       "      <td>309</td>\n",
       "      <td>39</td>\n",
       "      <td>52</td>\n",
       "      <td>43</td>\n",
       "      <td>60</td>\n",
       "      <td>50</td>\n",
       "      <td>65</td>\n",
       "      <td>{'Scratch': {'Type': 'Normal', 'Level': '—', '...</td>\n",
       "    </tr>\n",
       "    <tr>\n",
       "      <th>4</th>\n",
       "      <td>5</td>\n",
       "      <td>Charmeleon</td>\n",
       "      <td>Fire</td>\n",
       "      <td>NaN</td>\n",
       "      <td>Blaze,Solar Power</td>\n",
       "      <td>Flame Pokémon</td>\n",
       "      <td>3'07\"</td>\n",
       "      <td>1.1</td>\n",
       "      <td>41.9</td>\n",
       "      <td>19.0</td>\n",
       "      <td>...</td>\n",
       "      <td>5120</td>\n",
       "      <td>Medium Slow</td>\n",
       "      <td>405</td>\n",
       "      <td>58</td>\n",
       "      <td>64</td>\n",
       "      <td>58</td>\n",
       "      <td>80</td>\n",
       "      <td>65</td>\n",
       "      <td>80</td>\n",
       "      <td>{'Scratch': {'Type': 'Normal', 'Level': '—', '...</td>\n",
       "    </tr>\n",
       "  </tbody>\n",
       "</table>\n",
       "<p>5 rows × 21 columns</p>\n",
       "</div>"
      ],
      "text/plain": [
       "   Id        Name Type 1  Type 2             Abilities        Category  \\\n",
       "0   1   Bulbasaur  Grass  Poison  Overgrow,Chlorophyll    Seed Pokémon   \n",
       "1   2     Ivysaur  Grass  Poison  Overgrow,Chlorophyll    Seed Pokémon   \n",
       "2   3    Venusaur  Grass  Poison  Overgrow,Chlorophyll    Seed Pokémon   \n",
       "3   4  Charmander   Fire     NaN     Blaze,Solar Power  Lizard Pokémon   \n",
       "4   5  Charmeleon   Fire     NaN     Blaze,Solar Power   Flame Pokémon   \n",
       "\n",
       "  Height (ft)  Height (m)  Weight (lbs)  Weight (kg)  ...  Egg Steps  \\\n",
       "0       2'04\"         0.7          15.2          6.9  ...       5120   \n",
       "1       3'03\"         1.0          28.7         13.0  ...       5120   \n",
       "2       6'07\"         2.0         220.5        100.0  ...       5120   \n",
       "3       2'00\"         0.6          18.7          8.5  ...       5120   \n",
       "4       3'07\"         1.1          41.9         19.0  ...       5120   \n",
       "\n",
       "     Exp Group Total  HP  Attack  Defense  Sp. Attack  Sp. Defense  Speed  \\\n",
       "0  Medium Slow   318  45      49       49          65           65     45   \n",
       "1  Medium Slow   405  60      62       63          80           80     60   \n",
       "2  Medium Slow   525  80      82       83         100          100     80   \n",
       "3  Medium Slow   309  39      52       43          60           50     65   \n",
       "4  Medium Slow   405  58      64       58          80           65     80   \n",
       "\n",
       "                                               Moves  \n",
       "0  {'Tackle': {'Type': 'Normal', 'Level': '—', 'P...  \n",
       "1  {'Tackle': {'Type': 'Normal', 'Level': '—', 'P...  \n",
       "2  {'Petal Dance': {'Type': 'Grass', 'Level': 'Ev...  \n",
       "3  {'Scratch': {'Type': 'Normal', 'Level': '—', '...  \n",
       "4  {'Scratch': {'Type': 'Normal', 'Level': '—', '...  \n",
       "\n",
       "[5 rows x 21 columns]"
      ]
     },
     "execution_count": 6,
     "metadata": {},
     "output_type": "execute_result"
    }
   ],
   "source": [
    "poke_moves_df.head()"
   ]
  },
  {
   "cell_type": "code",
   "execution_count": 7,
   "id": "60102e2f-c0ed-4f66-a749-f86e8d5d26b6",
   "metadata": {},
   "outputs": [
    {
     "data": {
      "text/plain": [
       "809"
      ]
     },
     "execution_count": 7,
     "metadata": {},
     "output_type": "execute_result"
    }
   ],
   "source": [
    "len(poke_moves_df)"
   ]
  },
  {
   "cell_type": "code",
   "execution_count": 8,
   "id": "f5d77ac2-7111-478d-9f18-88ee44cabebb",
   "metadata": {},
   "outputs": [
    {
     "data": {
      "text/plain": [
       "['Id',\n",
       " 'Name',\n",
       " 'Type 1',\n",
       " 'Type 2',\n",
       " 'Abilities',\n",
       " 'Category',\n",
       " 'Height (ft)',\n",
       " 'Height (m)',\n",
       " 'Weight (lbs)',\n",
       " 'Weight (kg)',\n",
       " 'Capture Rate',\n",
       " 'Egg Steps',\n",
       " 'Exp Group',\n",
       " 'Total',\n",
       " 'HP',\n",
       " 'Attack',\n",
       " 'Defense',\n",
       " 'Sp. Attack',\n",
       " 'Sp. Defense',\n",
       " 'Speed',\n",
       " 'Moves']"
      ]
     },
     "execution_count": 8,
     "metadata": {},
     "output_type": "execute_result"
    }
   ],
   "source": [
    "column_names = list(poke_moves_df.columns.values)\n",
    "column_names"
   ]
  },
  {
   "cell_type": "code",
   "execution_count": 11,
   "id": "37268a68-7129-4710-aa54-296266ed6d19",
   "metadata": {},
   "outputs": [
    {
     "data": {
      "text/html": [
       "<div>\n",
       "<style scoped>\n",
       "    .dataframe tbody tr th:only-of-type {\n",
       "        vertical-align: middle;\n",
       "    }\n",
       "\n",
       "    .dataframe tbody tr th {\n",
       "        vertical-align: top;\n",
       "    }\n",
       "\n",
       "    .dataframe thead th {\n",
       "        text-align: right;\n",
       "    }\n",
       "</style>\n",
       "<table border=\"1\" class=\"dataframe\">\n",
       "  <thead>\n",
       "    <tr style=\"text-align: right;\">\n",
       "      <th></th>\n",
       "      <th>Name</th>\n",
       "      <th>Moves</th>\n",
       "    </tr>\n",
       "  </thead>\n",
       "  <tbody>\n",
       "    <tr>\n",
       "      <th>0</th>\n",
       "      <td>Bulbasaur</td>\n",
       "      <td>{'Tackle': {'Type': 'Normal', 'Level': '—', 'P...</td>\n",
       "    </tr>\n",
       "    <tr>\n",
       "      <th>1</th>\n",
       "      <td>Ivysaur</td>\n",
       "      <td>{'Tackle': {'Type': 'Normal', 'Level': '—', 'P...</td>\n",
       "    </tr>\n",
       "    <tr>\n",
       "      <th>2</th>\n",
       "      <td>Venusaur</td>\n",
       "      <td>{'Petal Dance': {'Type': 'Grass', 'Level': 'Ev...</td>\n",
       "    </tr>\n",
       "    <tr>\n",
       "      <th>3</th>\n",
       "      <td>Charmander</td>\n",
       "      <td>{'Scratch': {'Type': 'Normal', 'Level': '—', '...</td>\n",
       "    </tr>\n",
       "    <tr>\n",
       "      <th>4</th>\n",
       "      <td>Charmeleon</td>\n",
       "      <td>{'Scratch': {'Type': 'Normal', 'Level': '—', '...</td>\n",
       "    </tr>\n",
       "  </tbody>\n",
       "</table>\n",
       "</div>"
      ],
      "text/plain": [
       "         Name                                              Moves\n",
       "0   Bulbasaur  {'Tackle': {'Type': 'Normal', 'Level': '—', 'P...\n",
       "1     Ivysaur  {'Tackle': {'Type': 'Normal', 'Level': '—', 'P...\n",
       "2    Venusaur  {'Petal Dance': {'Type': 'Grass', 'Level': 'Ev...\n",
       "3  Charmander  {'Scratch': {'Type': 'Normal', 'Level': '—', '...\n",
       "4  Charmeleon  {'Scratch': {'Type': 'Normal', 'Level': '—', '..."
      ]
     },
     "execution_count": 11,
     "metadata": {},
     "output_type": "execute_result"
    }
   ],
   "source": [
    "#extracting only the columns we care about\n",
    "moves_df = poke_moves_df[['Name','Moves']]\n",
    "moves_df.head()"
   ]
  },
  {
   "cell_type": "code",
   "execution_count": 12,
   "id": "64d944e2-dd6f-4a32-888b-6956181f173d",
   "metadata": {},
   "outputs": [
    {
     "name": "stdout",
     "output_type": "stream",
     "text": [
      "Stored 'moves_df' (DataFrame)\n"
     ]
    }
   ],
   "source": [
    "%store moves_df"
   ]
  },
  {
   "cell_type": "code",
   "execution_count": 13,
   "id": "fcd9fd3e-535d-404a-ac5b-0d166cc859c3",
   "metadata": {},
   "outputs": [],
   "source": [
    "moves_df.to_csv('moves_df.csv')"
   ]
  },
  {
   "cell_type": "code",
   "execution_count": null,
   "id": "1621e34a-f8e7-4487-9dec-afe954cca178",
   "metadata": {},
   "outputs": [],
   "source": []
  }
 ],
 "metadata": {
  "kernelspec": {
   "display_name": "Python 3 (ipykernel)",
   "language": "python",
   "name": "python3"
  },
  "language_info": {
   "codemirror_mode": {
    "name": "ipython",
    "version": 3
   },
   "file_extension": ".py",
   "mimetype": "text/x-python",
   "name": "python",
   "nbconvert_exporter": "python",
   "pygments_lexer": "ipython3",
   "version": "3.11.4"
  }
 },
 "nbformat": 4,
 "nbformat_minor": 5
}
