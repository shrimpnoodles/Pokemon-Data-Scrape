{
 "cells": [
  {
   "cell_type": "code",
   "execution_count": 6,
   "id": "27d00044-f5f3-4a39-8125-8fa98beba803",
   "metadata": {},
   "outputs": [],
   "source": [
    "import pandas as pd"
   ]
  },
  {
   "cell_type": "code",
   "execution_count": 7,
   "id": "a4d386da-81d5-47b5-a3fc-6a7ed66a172f",
   "metadata": {},
   "outputs": [],
   "source": [
    "#importing moves dataset from kaggle\n",
    "pokeset_w_moves = \"/Users/felix/Downloads/archive(2)/pokedex.csv\""
   ]
  },
  {
   "cell_type": "code",
   "execution_count": 8,
   "id": "fcd67e58-81b5-4411-bca5-cf18b92ec6ad",
   "metadata": {},
   "outputs": [],
   "source": [
    "poke_moves_df = pd.read_csv(pokeset_w_moves)"
   ]
  },
  {
   "cell_type": "code",
   "execution_count": 9,
   "id": "37d185a6-3a92-46f6-83bb-d8a8ddb47977",
   "metadata": {},
   "outputs": [
    {
     "name": "stdout",
     "output_type": "stream",
     "text": [
      "<class 'pandas.core.frame.DataFrame'>\n",
      "RangeIndex: 809 entries, 0 to 808\n",
      "Data columns (total 21 columns):\n",
      " #   Column        Non-Null Count  Dtype  \n",
      "---  ------        --------------  -----  \n",
      " 0   Id            809 non-null    int64  \n",
      " 1   Name          809 non-null    object \n",
      " 2   Type 1        809 non-null    object \n",
      " 3   Type 2        405 non-null    object \n",
      " 4   Abilities     809 non-null    object \n",
      " 5   Category      809 non-null    object \n",
      " 6   Height (ft)   809 non-null    object \n",
      " 7   Height (m)    809 non-null    float64\n",
      " 8   Weight (lbs)  809 non-null    float64\n",
      " 9   Weight (kg)   809 non-null    float64\n",
      " 10  Capture Rate  809 non-null    int64  \n",
      " 11  Egg Steps     809 non-null    int64  \n",
      " 12  Exp Group     809 non-null    object \n",
      " 13  Total         809 non-null    int64  \n",
      " 14  HP            809 non-null    int64  \n",
      " 15  Attack        809 non-null    int64  \n",
      " 16  Defense       809 non-null    int64  \n",
      " 17  Sp. Attack    809 non-null    int64  \n",
      " 18  Sp. Defense   809 non-null    int64  \n",
      " 19  Speed         809 non-null    int64  \n",
      " 20  Moves         809 non-null    object \n",
      "dtypes: float64(3), int64(10), object(8)\n",
      "memory usage: 132.9+ KB\n"
     ]
    }
   ],
   "source": [
    "poke_moves_df.info()"
   ]
  },
  {
   "cell_type": "code",
   "execution_count": 7,
   "id": "60102e2f-c0ed-4f66-a749-f86e8d5d26b6",
   "metadata": {},
   "outputs": [
    {
     "data": {
      "text/plain": [
       "809"
      ]
     },
     "execution_count": 7,
     "metadata": {},
     "output_type": "execute_result"
    }
   ],
   "source": [
    "len(poke_moves_df)"
   ]
  },
  {
   "cell_type": "code",
   "execution_count": 8,
   "id": "f5d77ac2-7111-478d-9f18-88ee44cabebb",
   "metadata": {},
   "outputs": [
    {
     "data": {
      "text/plain": [
       "['Id',\n",
       " 'Name',\n",
       " 'Type 1',\n",
       " 'Type 2',\n",
       " 'Abilities',\n",
       " 'Category',\n",
       " 'Height (ft)',\n",
       " 'Height (m)',\n",
       " 'Weight (lbs)',\n",
       " 'Weight (kg)',\n",
       " 'Capture Rate',\n",
       " 'Egg Steps',\n",
       " 'Exp Group',\n",
       " 'Total',\n",
       " 'HP',\n",
       " 'Attack',\n",
       " 'Defense',\n",
       " 'Sp. Attack',\n",
       " 'Sp. Defense',\n",
       " 'Speed',\n",
       " 'Moves']"
      ]
     },
     "execution_count": 8,
     "metadata": {},
     "output_type": "execute_result"
    }
   ],
   "source": [
    "column_names = list(poke_moves_df.columns.values)\n",
    "column_names"
   ]
  },
  {
   "cell_type": "code",
   "execution_count": 11,
   "id": "37268a68-7129-4710-aa54-296266ed6d19",
   "metadata": {},
   "outputs": [
    {
     "data": {
      "text/html": [
       "<div>\n",
       "<style scoped>\n",
       "    .dataframe tbody tr th:only-of-type {\n",
       "        vertical-align: middle;\n",
       "    }\n",
       "\n",
       "    .dataframe tbody tr th {\n",
       "        vertical-align: top;\n",
       "    }\n",
       "\n",
       "    .dataframe thead th {\n",
       "        text-align: right;\n",
       "    }\n",
       "</style>\n",
       "<table border=\"1\" class=\"dataframe\">\n",
       "  <thead>\n",
       "    <tr style=\"text-align: right;\">\n",
       "      <th></th>\n",
       "      <th>Name</th>\n",
       "      <th>Moves</th>\n",
       "    </tr>\n",
       "  </thead>\n",
       "  <tbody>\n",
       "    <tr>\n",
       "      <th>0</th>\n",
       "      <td>Bulbasaur</td>\n",
       "      <td>{'Tackle': {'Type': 'Normal', 'Level': '—', 'P...</td>\n",
       "    </tr>\n",
       "    <tr>\n",
       "      <th>1</th>\n",
       "      <td>Ivysaur</td>\n",
       "      <td>{'Tackle': {'Type': 'Normal', 'Level': '—', 'P...</td>\n",
       "    </tr>\n",
       "    <tr>\n",
       "      <th>2</th>\n",
       "      <td>Venusaur</td>\n",
       "      <td>{'Petal Dance': {'Type': 'Grass', 'Level': 'Ev...</td>\n",
       "    </tr>\n",
       "    <tr>\n",
       "      <th>3</th>\n",
       "      <td>Charmander</td>\n",
       "      <td>{'Scratch': {'Type': 'Normal', 'Level': '—', '...</td>\n",
       "    </tr>\n",
       "    <tr>\n",
       "      <th>4</th>\n",
       "      <td>Charmeleon</td>\n",
       "      <td>{'Scratch': {'Type': 'Normal', 'Level': '—', '...</td>\n",
       "    </tr>\n",
       "  </tbody>\n",
       "</table>\n",
       "</div>"
      ],
      "text/plain": [
       "         Name                                              Moves\n",
       "0   Bulbasaur  {'Tackle': {'Type': 'Normal', 'Level': '—', 'P...\n",
       "1     Ivysaur  {'Tackle': {'Type': 'Normal', 'Level': '—', 'P...\n",
       "2    Venusaur  {'Petal Dance': {'Type': 'Grass', 'Level': 'Ev...\n",
       "3  Charmander  {'Scratch': {'Type': 'Normal', 'Level': '—', '...\n",
       "4  Charmeleon  {'Scratch': {'Type': 'Normal', 'Level': '—', '..."
      ]
     },
     "execution_count": 11,
     "metadata": {},
     "output_type": "execute_result"
    }
   ],
   "source": [
    "#extracting only the columns we care about\n",
    "moves_df = poke_moves_df[['Name','Moves']]\n",
    "moves_df.head()"
   ]
  },
  {
   "cell_type": "code",
   "execution_count": 12,
   "id": "64d944e2-dd6f-4a32-888b-6956181f173d",
   "metadata": {},
   "outputs": [
    {
     "name": "stdout",
     "output_type": "stream",
     "text": [
      "Stored 'moves_df' (DataFrame)\n"
     ]
    }
   ],
   "source": [
    "%store moves_df"
   ]
  },
  {
   "cell_type": "code",
   "execution_count": 13,
   "id": "fcd9fd3e-535d-404a-ac5b-0d166cc859c3",
   "metadata": {},
   "outputs": [],
   "source": [
    "moves_df.to_csv('moves_df.csv')"
   ]
  },
  {
   "cell_type": "code",
   "execution_count": null,
   "id": "908c2eab-1101-4581-bbba-c4c4a8ed9d50",
   "metadata": {},
   "outputs": [],
   "source": []
  }
 ],
 "metadata": {
  "kernelspec": {
   "display_name": "Python 3 (ipykernel)",
   "language": "python",
   "name": "python3"
  },
  "language_info": {
   "codemirror_mode": {
    "name": "ipython",
    "version": 3
   },
   "file_extension": ".py",
   "mimetype": "text/x-python",
   "name": "python",
   "nbconvert_exporter": "python",
   "pygments_lexer": "ipython3",
   "version": "3.11.4"
  }
 },
 "nbformat": 4,
 "nbformat_minor": 5
}
