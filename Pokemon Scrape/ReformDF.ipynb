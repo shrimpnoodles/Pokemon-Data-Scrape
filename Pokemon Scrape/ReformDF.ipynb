{
 "cells": [
  {
   "cell_type": "code",
   "execution_count": 2,
   "id": "1d1b0f92-262c-47b9-a637-c9c1d99de1f0",
   "metadata": {},
   "outputs": [],
   "source": [
    "import pandas as pd\n",
    "import numpy as np"
   ]
  },
  {
   "cell_type": "code",
   "execution_count": 68,
   "id": "39a61bba-7a03-4126-97bc-49e822497335",
   "metadata": {},
   "outputs": [],
   "source": [
    "%store -r final_df"
   ]
  },
  {
   "cell_type": "code",
   "execution_count": 70,
   "id": "e08bfdb5-4e3b-44f3-940e-7d3c0ab5d64f",
   "metadata": {},
   "outputs": [],
   "source": [
    "crap_shoot = pd.read_csv('/Users/felix/final_df.csv')"
   ]
  },
  {
   "cell_type": "code",
   "execution_count": 71,
   "id": "1daab0ee-84bf-4dd3-b001-753983322145",
   "metadata": {},
   "outputs": [
    {
     "data": {
      "text/plain": [
       "2.0"
      ]
     },
     "execution_count": 71,
     "metadata": {},
     "output_type": "execute_result"
    }
   ],
   "source": [
    "crap_shoot.iloc[0]['against_fire']"
   ]
  },
  {
   "cell_type": "code",
   "execution_count": 80,
   "id": "5af30eef-94d0-4b64-9cdc-31af91998d48",
   "metadata": {},
   "outputs": [],
   "source": [
    "final_df = crap_shoot.drop(columns=['Unnamed: 0'])"
   ]
  },
  {
   "cell_type": "code",
   "execution_count": 82,
   "id": "8d7c6fae-3f1d-4dd5-9419-b2e0c6097221",
   "metadata": {},
   "outputs": [
    {
     "name": "stdout",
     "output_type": "stream",
     "text": [
      "Stored 'final_df' (DataFrame)\n"
     ]
    }
   ],
   "source": [
    "%store final_df"
   ]
  },
  {
   "cell_type": "code",
   "execution_count": 63,
   "id": "aec44b5a-e2ae-4f22-95bb-486aa95f0272",
   "metadata": {},
   "outputs": [],
   "source": [
    "#pd.options.display.max_colwidth = 100"
   ]
  },
  {
   "cell_type": "code",
   "execution_count": 181,
   "id": "4415f5a7-9317-4520-9d4f-98ccde1d7a57",
   "metadata": {},
   "outputs": [],
   "source": [
    "reform_df = final_df"
   ]
  },
  {
   "cell_type": "code",
   "execution_count": 80,
   "id": "02b7b76a-c170-45e4-84a3-371bc2c00b6d",
   "metadata": {},
   "outputs": [
    {
     "name": "stdout",
     "output_type": "stream",
     "text": [
      "<class 'pandas.core.frame.DataFrame'>\n",
      "RangeIndex: 1045 entries, 0 to 1044\n",
      "Data columns (total 55 columns):\n",
      " #   Column                      Non-Null Count  Dtype  \n",
      "---  ------                      --------------  -----  \n",
      " 0   pokedex_number              1045 non-null   int64  \n",
      " 1   name                        1045 non-null   object \n",
      " 2   japanese_name               1045 non-null   object \n",
      " 3   generation                  1045 non-null   int64  \n",
      " 4   status                      1045 non-null   object \n",
      " 5   species                     1045 non-null   object \n",
      " 6   type_number                 1045 non-null   int64  \n",
      " 7   type_1                      1045 non-null   object \n",
      " 8   type_2                      553 non-null    object \n",
      " 9   height_m                    1045 non-null   float64\n",
      " 10  weight_kg                   1044 non-null   float64\n",
      " 11  abilities_number            1045 non-null   int64  \n",
      " 12  total_points                1045 non-null   int64  \n",
      " 13  hp                          1045 non-null   int64  \n",
      " 14  attack                      1045 non-null   int64  \n",
      " 15  defense                     1045 non-null   int64  \n",
      " 16  sp_attack                   1045 non-null   int64  \n",
      " 17  sp_defense                  1045 non-null   int64  \n",
      " 18  speed                       1045 non-null   int64  \n",
      " 19  catch_rate                  1027 non-null   float64\n",
      " 20  base_friendship             930 non-null    float64\n",
      " 21  base_experience             925 non-null    float64\n",
      " 22  growth_rate                 1044 non-null   object \n",
      " 23  egg_type_number             1045 non-null   int64  \n",
      " 24  egg_type_1                  1042 non-null   object \n",
      " 25  egg_type_2                  285 non-null    object \n",
      " 26  percentage_male             872 non-null    float64\n",
      " 27  egg_cycles                  1044 non-null   float64\n",
      " 28  against_normal              1045 non-null   float64\n",
      " 29  against_fire                1045 non-null   float64\n",
      " 30  against_water               1045 non-null   float64\n",
      " 31  against_electric            1045 non-null   float64\n",
      " 32  against_grass               1045 non-null   float64\n",
      " 33  against_ice                 1045 non-null   float64\n",
      " 34  against_fight               1045 non-null   float64\n",
      " 35  against_poison              1045 non-null   float64\n",
      " 36  against_ground              1045 non-null   float64\n",
      " 37  against_flying              1045 non-null   float64\n",
      " 38  against_psychic             1045 non-null   float64\n",
      " 39  against_bug                 1045 non-null   float64\n",
      " 40  against_rock                1045 non-null   float64\n",
      " 41  against_ghost               1045 non-null   float64\n",
      " 42  against_dragon              1045 non-null   float64\n",
      " 43  against_dark                1045 non-null   float64\n",
      " 44  against_steel               1045 non-null   float64\n",
      " 45  against_fairy               1045 non-null   float64\n",
      " 46  smogon_description          992 non-null    object \n",
      " 47  bulba_description           1045 non-null   object \n",
      " 48  moves                       1045 non-null   object \n",
      " 49  ability_1                   1044 non-null   object \n",
      " 50  ability_2                   939 non-null    object \n",
      " 51  ability_hidden              652 non-null    object \n",
      " 52  ability_1_description       1044 non-null   object \n",
      " 53  ability_2_description       939 non-null    object \n",
      " 54  ability_hidden_description  652 non-null    object \n",
      "dtypes: float64(25), int64(12), object(18)\n",
      "memory usage: 449.2+ KB\n"
     ]
    }
   ],
   "source": [
    "reform_df.info()"
   ]
  },
  {
   "cell_type": "code",
   "execution_count": 183,
   "id": "e2b51db6-9d5a-46e9-bb3c-08c0aefe0693",
   "metadata": {},
   "outputs": [],
   "source": [
    "corpus_df = pd.DataFrame()"
   ]
  },
  {
   "cell_type": "code",
   "execution_count": 28,
   "id": "4d77f7c1-e412-46e7-b727-bba8198e1394",
   "metadata": {},
   "outputs": [
    {
     "name": "stdout",
     "output_type": "stream",
     "text": [
      "against_normal [1.   0.5  0.   0.25]\n",
      "against_fire [2.   1.   0.5  0.25 4.   0.   1.5  1.25]\n",
      "against_water [0.5  2.   1.   0.   4.   0.25 3.  ]\n",
      "against_electric [0.5  1.   2.   0.   0.25 4.   1.5 ]\n",
      "against_grass [0.25 0.5  2.   1.   4.   0.   3.  ]\n",
      "against_ice [  2.     1.     0.5    0.25 125.     4.     0.  ]\n",
      "against_fight [0.5  1.   0.25 2.   4.   0.   1.5 ]\n",
      "against_poison [1.   0.5  0.   0.25 2.   1.5  4.  ]\n",
      "against_flying [2.   1.   0.5  4.   0.25]\n",
      "against_psychic [2.   1.   0.   0.5  0.25 4.  ]\n",
      "against_bug [1.   0.5  0.25 2.   4.   0.   1.5 ]\n",
      "against_rock [1.   2.   4.   0.5  0.25]\n",
      "against_ghost [1.  0.  0.5 2.  1.5 4.  3. ]\n",
      "against_dragon [1.  2.  0.5 0. ]\n",
      "against_dark [1.   0.5  2.   0.25 4.   1.5  3.  ]\n",
      "against_steel [1.   0.5  2.   0.25 1.5  0.   4.  ]\n",
      "against_fairy [0.5  1.   2.   0.   0.25 4.  ]\n"
     ]
    }
   ],
   "source": [
    "print('against_normal', final_df['against_normal'].unique())\n",
    "print('against_fire', final_df['against_fire'].unique())\n",
    "print('against_water', final_df['against_water'].unique())\n",
    "print('against_electric', final_df['against_electric'].unique())\n",
    "print('against_grass', final_df['against_grass'].unique())\n",
    "print('against_ice', final_df['against_ice'].unique())\n",
    "print('against_fight', final_df['against_fight'].unique())\n",
    "print('against_poison', final_df['against_poison'].unique())\n",
    "print('against_flying', final_df['against_flying'].unique())\n",
    "print('against_psychic', final_df['against_psychic'].unique())\n",
    "print('against_bug', final_df['against_bug'].unique())\n",
    "print('against_rock', final_df['against_rock'].unique())\n",
    "print('against_ghost', final_df['against_ghost'].unique())\n",
    "print('against_dragon', final_df['against_dragon'].unique())\n",
    "print('against_dark', final_df['against_dark'].unique())\n",
    "print('against_steel', final_df['against_steel'].unique())\n",
    "print('against_fairy', final_df['against_fairy'].unique())"
   ]
  },
  {
   "cell_type": "code",
   "execution_count": 83,
   "id": "c48e222f-dfaa-4f05-8989-a8671591a312",
   "metadata": {},
   "outputs": [],
   "source": [
    "tester2= final_df"
   ]
  },
  {
   "cell_type": "code",
   "execution_count": 84,
   "id": "462b169e-3c55-447f-9bff-3415875164f8",
   "metadata": {},
   "outputs": [
    {
     "data": {
      "text/plain": [
       "2.0"
      ]
     },
     "execution_count": 84,
     "metadata": {},
     "output_type": "execute_result"
    }
   ],
   "source": [
    "tester2.iloc[0][\"against_fire\"]"
   ]
  },
  {
   "cell_type": "code",
   "execution_count": 87,
   "id": "5eea0b52-ab2a-4a94-bba3-740cbce0c8a0",
   "metadata": {},
   "outputs": [],
   "source": [
    "\n",
    "def convert(x):\n",
    "    new_x = \"\"\n",
    "    #print(x)\n",
    "    if x == 0:\n",
    "        new_x = str(x) + \"x or has no effect\"\n",
    "    elif x >= 0 and x <= 1:\n",
    "        new_x = str(x) + \"x or is not very effective\"\n",
    "    elif x == 1:\n",
    "        new_x = str(x) + \"x or has normal effectiveness\"\n",
    "    else:\n",
    "        new_x = str(x) + \"x or is super effective\"\n",
    "\n",
    "    return new_x\n",
    "    \n",
    "effective_cols = [col for col in tester2.columns if 'against' in col]\n",
    "\n",
    "for name in effective_cols:\n",
    "    #print(tester2[name])\n",
    "    tester2[name] = tester2[name].apply(convert)\n",
    "    "
   ]
  },
  {
   "cell_type": "code",
   "execution_count": 88,
   "id": "a2512248-02ee-4e7d-87c4-75563232b707",
   "metadata": {},
   "outputs": [
    {
     "data": {
      "text/plain": [
       "'2.0x or is super effective'"
      ]
     },
     "execution_count": 88,
     "metadata": {},
     "output_type": "execute_result"
    }
   ],
   "source": [
    "tester2.iloc[0][\"against_fire\"]"
   ]
  },
  {
   "cell_type": "code",
   "execution_count": 89,
   "id": "ed1c96bd-110e-47a9-b938-4368f87e1f92",
   "metadata": {},
   "outputs": [],
   "source": [
    "reform_df = tester2"
   ]
  },
  {
   "cell_type": "code",
   "execution_count": 90,
   "id": "acd95903-7335-4ec5-9a1a-5005594f3f45",
   "metadata": {},
   "outputs": [],
   "source": [
    "reform_df['moves_text']=tester_df['moves_text']"
   ]
  },
  {
   "cell_type": "code",
   "execution_count": 91,
   "id": "6873a0fa-3225-448f-9cac-03b290b407f1",
   "metadata": {},
   "outputs": [
    {
     "name": "stdout",
     "output_type": "stream",
     "text": [
      "<class 'pandas.core.frame.DataFrame'>\n",
      "RangeIndex: 1045 entries, 0 to 1044\n",
      "Data columns (total 56 columns):\n",
      " #   Column                      Non-Null Count  Dtype  \n",
      "---  ------                      --------------  -----  \n",
      " 0   pokedex_number              1045 non-null   int64  \n",
      " 1   name                        1045 non-null   object \n",
      " 2   japanese_name               1045 non-null   object \n",
      " 3   generation                  1045 non-null   int64  \n",
      " 4   status                      1045 non-null   object \n",
      " 5   species                     1045 non-null   object \n",
      " 6   type_number                 1045 non-null   int64  \n",
      " 7   type_1                      1045 non-null   object \n",
      " 8   type_2                      553 non-null    object \n",
      " 9   height_m                    1045 non-null   float64\n",
      " 10  weight_kg                   1044 non-null   float64\n",
      " 11  abilities_number            1045 non-null   int64  \n",
      " 12  total_points                1045 non-null   int64  \n",
      " 13  hp                          1045 non-null   int64  \n",
      " 14  attack                      1045 non-null   int64  \n",
      " 15  defense                     1045 non-null   int64  \n",
      " 16  sp_attack                   1045 non-null   int64  \n",
      " 17  sp_defense                  1045 non-null   int64  \n",
      " 18  speed                       1045 non-null   int64  \n",
      " 19  catch_rate                  1027 non-null   float64\n",
      " 20  base_friendship             930 non-null    float64\n",
      " 21  base_experience             925 non-null    float64\n",
      " 22  growth_rate                 1044 non-null   object \n",
      " 23  egg_type_number             1045 non-null   int64  \n",
      " 24  egg_type_1                  1042 non-null   object \n",
      " 25  egg_type_2                  285 non-null    object \n",
      " 26  percentage_male             872 non-null    float64\n",
      " 27  egg_cycles                  1044 non-null   float64\n",
      " 28  against_normal              1045 non-null   object \n",
      " 29  against_fire                1045 non-null   object \n",
      " 30  against_water               1045 non-null   object \n",
      " 31  against_electric            1045 non-null   object \n",
      " 32  against_grass               1045 non-null   object \n",
      " 33  against_ice                 1045 non-null   object \n",
      " 34  against_fight               1045 non-null   object \n",
      " 35  against_poison              1045 non-null   object \n",
      " 36  against_ground              1045 non-null   object \n",
      " 37  against_flying              1045 non-null   object \n",
      " 38  against_psychic             1045 non-null   object \n",
      " 39  against_bug                 1045 non-null   object \n",
      " 40  against_rock                1045 non-null   object \n",
      " 41  against_ghost               1045 non-null   object \n",
      " 42  against_dragon              1045 non-null   object \n",
      " 43  against_dark                1045 non-null   object \n",
      " 44  against_steel               1045 non-null   object \n",
      " 45  against_fairy               1045 non-null   object \n",
      " 46  smogon_description          945 non-null    object \n",
      " 47  bulba_description           1045 non-null   object \n",
      " 48  moves                       1045 non-null   object \n",
      " 49  ability_1                   1044 non-null   object \n",
      " 50  ability_2                   939 non-null    object \n",
      " 51  ability_hidden              652 non-null    object \n",
      " 52  ability_1_description       1044 non-null   object \n",
      " 53  ability_2_description       939 non-null    object \n",
      " 54  ability_hidden_description  652 non-null    object \n",
      " 55  moves_text                  809 non-null    object \n",
      "dtypes: float64(7), int64(12), object(37)\n",
      "memory usage: 457.3+ KB\n"
     ]
    }
   ],
   "source": [
    "reform_df.info()"
   ]
  },
  {
   "cell_type": "code",
   "execution_count": 184,
   "id": "bf937ece-9674-4677-bbcc-1037512ef562",
   "metadata": {},
   "outputs": [],
   "source": [
    "#convert all columns for each row of pokemon to one large text corpus\n",
    "corpus_df['pokemon_info'] = reform_df.apply(lambda x: f\" {x['bulba_description']}. {x['name']}'s pokedex number is {x['pokedex_number']}. The Japanese name for {x['name']} is {x['japanese_name']}. {x['name']} is a {x['status']} pokemon from generation {x['generation']} with {x['type_number']} type(s): {x['type_1']}, {x['type_2']}. {x['name']} is a {x['species']} pokemon with the height of {x['height_m']} meters and weight of {x['weight_kg']} kilograms. It has {x['abilities_number']} abilities: {x['ability_1']} and {x['ability_2']}. {x['ability_1']}'s description is: {x['ability_1_description']}. {x['ability_2']}'s description is: {x['ability_2_description']}. {x['name']}'s hidden ability is: {x['ability_hidden']} and it's description is: {x['ability_hidden_description']}. The total base points of {x['name']} is {x['total_points']}; with hp being {x['hp']} points, attack {x['attack']} points, defense {x['defense']} points, special attack {x['sp_attack']} points, special defense {x['sp_defense']} points, and speed {x['speed']} points. The catch rate for {x['name']} is {x['catch_rate']}. It's base frienship and base experience is {x['base_friendship']} and {x['base_experience']}. And it's growth rate is {x['growth_rate']}. {x['name']} has {x['egg_type_number']} egg type(s): {x['egg_type_1']} and {x['egg_type_2']}. It's male percentage rate is {x['percentage_male']}%, and it's number of egg cycles (255-257 steps) is {x['egg_cycles']}. Normal types damages {x['against_normal']} against {x['name']}. Fire types damages {x['against_fire']} against {x['name']}. Water types damages {x['against_water']} against {x['name']}. Electric types damages {x['against_electric']} against {x['name']}. Grass types damages {x['against_grass']} against {x['name']}. Ice types damages {x['against_ice']} against {x['name']}. Fighting types damages {x['against_fight']} against {x['name']}. Poison types damages {x['against_poison']} against {x['name']}. Ground types damages {x['against_ground']} against {x['name']}. Flying types damages {x['against_flying']} against {x['name']}. Psychic types damages {x['against_psychic']} against {x['name']}. Bug types damages {x['against_bug']} against {x['name']}. Rock types damages {x.against_rock} against {x['name']}. Ghost types damages {x['against_ghost']} against {x['name']}. Dragon types damages {x['against_dragon']} against {x['name']}. Dark types damages {x['against_dark']} against {x['name']}. Steel types damages {x['against_steel']} against {x['name']}. Fairy types damages {x['against_fairy']} against {x['name']}. {x['moves_text']}. {x['smogon_description']}.\", axis = 1)\n",
    "\n",
    "\n",
    "#filler space"
   ]
  },
  {
   "cell_type": "code",
   "execution_count": null,
   "id": "680dd936-eb34-4551-80fb-e918dce72df8",
   "metadata": {},
   "outputs": [],
   "source": [
    "#pd.options.display.max_colwidth = 70000\n",
    "corpus_df.head()"
   ]
  },
  {
   "cell_type": "code",
   "execution_count": 186,
   "id": "9d2b6f6c-1035-4ad1-9b9d-9e6217116d13",
   "metadata": {},
   "outputs": [
    {
     "name": "stdout",
     "output_type": "stream",
     "text": [
      "<class 'pandas.core.frame.DataFrame'>\n",
      "RangeIndex: 1045 entries, 0 to 1044\n",
      "Data columns (total 1 columns):\n",
      " #   Column        Non-Null Count  Dtype \n",
      "---  ------        --------------  ----- \n",
      " 0   pokemon_info  1045 non-null   object\n",
      "dtypes: object(1)\n",
      "memory usage: 8.3+ KB\n"
     ]
    }
   ],
   "source": [
    "corpus_df.info()"
   ]
  },
  {
   "cell_type": "code",
   "execution_count": 187,
   "id": "aec37422-2df2-430c-992a-a178cc98a82c",
   "metadata": {},
   "outputs": [
    {
     "name": "stdout",
     "output_type": "stream",
     "text": [
      "Stored 'corpus_df' (DataFrame)\n"
     ]
    }
   ],
   "source": [
    "%store corpus_df"
   ]
  },
  {
   "cell_type": "code",
   "execution_count": 188,
   "id": "9e65184b-dd3c-4a9a-b610-f2ca2da7cb62",
   "metadata": {},
   "outputs": [],
   "source": [
    "corpus_df.to_csv('corpus_df.csv')"
   ]
  },
  {
   "cell_type": "code",
   "execution_count": 1,
   "id": "3f26217e-074e-4f4a-b264-b4f9bd26fb95",
   "metadata": {},
   "outputs": [],
   "source": [
    "%store -r corpus_df"
   ]
  },
  {
   "cell_type": "code",
   "execution_count": 7,
   "id": "d952f023-e770-49ce-b667-66a2fb4f54a5",
   "metadata": {},
   "outputs": [
    {
     "data": {
      "text/plain": [
       "pokemon_info     Bulbasaur (Japanese: フシギダネ Fushigidane) is a dual-type Grass/Poison Pokémon introduced in Generation I.\\nIt evolves into Ivysaur starting at level 16, which evolves into Venusaur starting at level 32.\\nAlong with Charmander and Squirtle, Bulbasaur is one of the three starter Pokémon of Kanto available at the beginning of Pokémon Red, Green, Blue, FireRed, and LeafGreen.\\n. Bulbasaur's pokedex number is 1. The Japanese name for Bulbasaur is フシギダネ (Fushigidane). Bulbasaur is a Normal pokemon from generation 1 with 2 type(s): Grass, Poison. Bulbasaur is a Seed Pokémon pokemon with the height of 0.7 meters and weight of 6.9 kilograms. It has 2 abilities: Overgrow and Chlorophyll. Overgrow's description is: Powers up Grass-type moves when the Pokémon's HP is low.. Chlorophyll's description is: Boosts the Pokémon's Speed stat in harsh sunlight.. Bulbasaur's hidden ability is: nan and it's description is: nan. The total base points of Bulbasaur is 318; with hp being 45 points, attack 49 points, defense 49 points, special attack 65 points, special defense 65 points, and speed 45 points. The catch rate for Bulbasaur is 45.0. It's base frienship and base experience is 70.0 and 64.0. And it's growth rate is Medium Slow. Bulbasaur has 2 egg type(s): Grass and Monster. It's male percentage rate is 87.5%, and it's number of egg cycles (255-257 steps) is 20.0. Normal types damages 1.0x against Bulbasaur. Fire types damages 2.0x against Bulbasaur. Water types damages 0.5x against Bulbasaur. Electric types damages 0.5x against Bulbasaur. Grass types damages 0.25x against Bulbasaur. Ice types damages 2.0x against Bulbasaur. Fighting types damages 0.5x against Bulbasaur. Poison types damages 1.0x against Bulbasaur. Ground types damages 1.0x against Bulbasaur. Flying types damages 2.0x against Bulbasaur. Psychic types damages 2.0x against Bulbasaur. Bug types damages 1.0x against Bulbasaur. Rock types damages 1.0x against Bulbasaur. Ghost types damages 1.0x against Bulbasaur. Dragon types damages 1.0x against Bulbasaur. Dark types damages 1.0x against Bulbasaur. Steel types damages 1.0x against Bulbasaur. Fairy types damages 0.5x against Bulbasaur. The moves Bulbasaur can learn are {'Tackle': {'Type': 'Normal', 'Level': '—', 'Power': '40', 'Accuracy': '100', 'PP': '35', 'Effect %': '--', 'Description': 'A physical attack in which the user charges and slams into the target with its whole body.'}, 'Growl': {'Type': 'Normal', 'Level': '3', 'Power': '--', 'Accuracy': '100', 'PP': '40', 'Effect %': '--', 'Description': 'The user growls in an endearing way, making opposing Pokémon less wary. This lowers their Attack stat.'}, 'Vine Whip': {'Type': 'Grass', 'Level': '9', 'Power': '45', 'Accuracy': '100', 'PP': '25', 'Effect %': '--', 'Description': 'The target is struck with slender, whiplike vines to inflict damage.'}, 'Poison Powder': {'Type': 'Poison', 'Level': '13', 'Power': '--', 'Accuracy': '75', 'PP': '35', 'Effect %': '--', 'Description': 'The user scatters a cloud of poisonous dust that poisons the target.'}, 'Sleep Powder': {'Type': 'Grass', 'Level': '13', 'Power': '--', 'Accuracy': '75', 'PP': '15', 'Effect %': '--', 'Description': 'The user scatters a big cloud of sleep-inducing dust around the target.'}, 'Take Down': {'Type': 'Normal', 'Level': '15', 'Power': '90', 'Accuracy': '85', 'PP': '20', 'Effect %': '--', 'Description': 'A reckless, full-body charge attack for slamming into the target. This also damages the user a little.'}, 'Razor Leaf': {'Type': 'Grass', 'Level': '19', 'Power': '55', 'Accuracy': '95', 'PP': '25', 'Effect %': '--', 'Description': 'Sharp-edged leaves are launched to slash at the opposing Pokémon. Critical hits land more easily.'}, 'Sweet Scent': {'Type': 'Normal', 'Level': '21', 'Power': '--', 'Accuracy': '100', 'PP': '20', 'Effect %': '--', 'Description': \"A sweet scent that harshly lowers opposing Pokémon's evasiveness.\"}, 'Growth': {'Type': 'Normal', 'Level': '25', 'Power': '--', 'Accuracy': '--', 'PP': '20', 'Effect %': '--', 'Description': \"The user's body grows all at once, raising the Attack and Sp. Atk stats.\"}, 'Double-Edge': {'Type': 'Normal', 'Level': '27', 'Power': '120', 'Accuracy': '100', 'PP': '15', 'Effect %': '--', 'Description': 'A reckless, life-risking tackle. This also damages the user quite a lot.'}, 'Worry Seed': {'Type': 'Grass', 'Level': '31', 'Power': '--', 'Accuracy': '100', 'PP': '10', 'Effect %': '--', 'Description': \"A seed that causes worry is planted on the target. It prevents sleep by making the target's Ability Insomnia.\"}, 'Synthesis': {'Type': 'Grass', 'Level': '33', 'Power': '--', 'Accuracy': '--', 'PP': '5', 'Effect %': '--', 'Description': 'The user restores its own HP. The amount of HP regained varies with the weather.'}, 'Seed Bomb': {'Type': 'Grass', 'Level': '37', 'Power': '80', 'Accuracy': '100', 'PP': '15', 'Effect %': '--', 'Description': 'The user slams a barrage of hard-shelled seeds down on the target from above.'}}. Bulbasaur is a potent sweeper in the LC metagame, as Z-Celebrate allows it to clean mid- or late-game and sweep unprepared teams with ease. Additionally, its Z-Celebrate-boosted bulk and access to Sleep Powder allow it to take some hits from strong Pokemon or immobilize them after setting up, since its good defensive typing gives it some key resistances, such as Fighting, Fairy, and Water. Unfortunately, Bulbasaur is frail and weak without the Z-Celebrate boosts, and it lacks setup opportunities against most of the Pokemon in the metagame since it is weak to common types such as Psychic and Flying. Bulbasaur also has a bad movepool and has to rely on Hidden Power Fire to do significant damage to Steel- and Poison-types, even with a Z-Celebrate boost, which can only be obtained once. Bulbasaur is also outsped by common Choice Scarf users such as Doduo and Rufflet. Bulbasaur also faces competition with Pumpkaboo-S, as both can use Z-Moves to boost all of their stats, and Z-Trick-or-Treat is obviously more useful than Z-Celebrate.\\nCelebrate paired with Normalium Z gives Bulbasaur an invaluable boost in every stat, transforming it into a huge threat. Sludge Bomb is its main STAB move, OHKOing Doduo and 2HKOing Vullaby, metagame staples, after a boost. Giga Drain is also a powerful STAB move and gives Bulbasaur a reliable form of recovery against Water- and Ground-types, OHKOing offensive variants of Staryu and Mudbray after a boost. Hidden Power Fire gives Bulbasaur a method of 2HKOing Pawniard and Ferroseed, but Sleep Powder can be used instead, as it is useful against slower targets and gives Bulbasaur a way to set up reliably, but its low accuracy makes it a risky option. Synthesis can be used in the fourth slot as well, since it gives Bulbasaur longevity, but Giga Drain already provides recovery and Hidden Power Fire or Sleep Powder is usually better.\\nChlorophyll is the only available ability if Bulbasaur uses Celebrate, and Normalium Z is a must too. The Defense EVs on Bulbasaur allow it to take hits from strong physical attackers and be hard to revenge kill, as it survives one Ice Punch followed by a Mach Punch from Iron Fist Timburr after Stealth Rock damage. The rest of the EVs are invested in Special Attack and Speed, giving Bulbasaur more opportunities to sweep unprepared teams. Bulbasaur outspeeds the entire unboosted metagame after Z-Celebrate, but a Timid nature can be used instead of Modest to outspeed unboosted Nasty Plot Vullaby before using Z-Celebrate at the cost of making Bulbasaur much weaker; for example, a Modest nature ensures the 2HKO on Pumpkaboo-S after Stealth Rock.\\nBulbasaur is best used as a late-game sweeper or as a cleaner, so try to find setup opportunities against passive or slower Pokemon, such as Spritzee, Snubbull, and Timburr, by immobilizing them with Sleep Powder if Bulbasaur uses it on its set. Avoid setting up when your opponent has Pokemon that will eventually stop Bulbasaur, such as Steel-types and revenge killers. When playing against Pokemon that can check Bulbasaur effectively after a boost, use Sleep Powder to shut them down, but remember that Bulbasaur should stay healthy before it sets up. This includes avoiding status such as paralysis. Lastly, remove phazers such as Mareanie before setting up, as Bulbasaur is completely useless without the boosts provided by Z-Celebrate.\\nBulbasaur pairs well with answers to Flying-types such as Pawniard, Onix, and Kabuto, since most of the Flying-types carry Choice Scarf and, as a result, must be removed to ensure Bulbasaur's sweep. Chinchou in particular helps Bulbasaur against Flying-types, Magnemite, and Fire-types, especially Ponyta. Other Water-types, such as Staryu and Mareanie, can help Bulbasaur face the aforementioned Fire-types. Trappers are really appreciated teammates; Diglett traps the Steel-, Poison-, and Fire-types that might stop Bulbasaur's sweep, such as Magnemite and Ponyta, and Alolan Grimer traps Abra and Gastly, which revenge kill Bulbasaur easily. Steel-type checks such as Mienfoo, Timburr, Ponyta, and Diglett are indispensable teammates as well, since Bulbasaur can't hit them effectively even with a boosted Hidden Power Fire. Solid answers to Poison-types, including Groundium Z Diglett, Mudbray, and Abra, are pretty good teammates too. Fire-types such as Ponyta appreciate Bulbasaur's ability to take down Water- and Ground-types while they remove Steel-types and Foongus. Entry hazard setters such as Kabuto and Ferroseed can wear down Pokemon to ease Bulbasaur's sweep. Lastly, Bulbasaur strongly appreciates a slow VoltTurn from Pokemon such as Mienfoo or even Larvesta because it can switch-in safely and use Z-Celebrate against passive Pokemon.\\nDue to Bulbasaur's shallow movepool, Bulbasaur has very few other options to use effectively. Hidden Power Ground can be used instead of Hidden Power Fire to hit Poison-types harder while still hitting Pawniard, but some of the most important Poison-types such as Gastly and Foongus aren't significantly damaged by it, and it leaves Bulbasaur completely walled by Ferroseed. A defensive set with Eviolite may work, but it's outclassed by Foongus, which has a better movepool and Regenerator. A set with Choice Scarf can be used, but Bulbasaur is terribly weak without boosts and has very few coverage options.\\nFire-types: Fire-types such as Ponyta are huge threats to Bulbasaur, since they are faster than it without the Z-Celebrate boost and can boost their Speed via Flame Charge and Speed Boost, respectively. However, Bulbasaur hits these Fire-types hard enough with Sludge Bomb to 2HKO, and it can put them to sleep with Sleep Powder.\\nFlying-types: Common Flying-types such as Vullaby and Doduo can threaten Bulbasaur with their strong STAB attacks, and they can use Choice Scarf to revenge kill Bulbasaur without forcing some Pokemon to be sacrificed to defeat it.\\nBulky Steel-types: Ferroseed, Pawniard, and Magnemite can threaten Bulbasaur if it's not running Fire-type coverage, and some of them can take one hit or two from it, even if it's running Hidden Power Fire or Hidden Power Ground.\\nRevenge Killers: Revenge killers such as Focus Sash Abra, Choice Scarf Amaura, and Choice Scarf Doduo can force Bulbasaur out if they don't just OHKO it.\\nPoison-types: Poison-types such as Mareanie and Foongus can easily take any hit from Bulbasaur and remove its Z-Celebrate boosts by using Haze or Clear Smog.\\n.\n",
       "Name: 0, dtype: object"
      ]
     },
     "execution_count": 7,
     "metadata": {},
     "output_type": "execute_result"
    }
   ],
   "source": [
    "pd.options.display.max_colwidth = 70000\n",
    "corpus_df.iloc[0]"
   ]
  },
  {
   "cell_type": "code",
   "execution_count": 11,
   "id": "c0ffaeeb-3e7b-494e-9468-da9bd1ccf17a",
   "metadata": {},
   "outputs": [
    {
     "name": "stdout",
     "output_type": "stream",
     "text": [
      "{'Tackle': {'Type': 'Normal', 'Level': '—', 'Power': '40', 'Accuracy': '100', 'PP': '35', 'Effect %': '--', 'Description': 'A physical attack in which the user charges and slams into the target with its whole body.'}, 'Growl': {'Type': 'Normal', 'Level': '3', 'Power': '--', 'Accuracy': '100', 'PP': '40', 'Effect %': '--', 'Description': 'The user growls in an endearing way, making opposing Pokémon less wary. This lowers their Attack stat.'}, 'Vine Whip': {'Type': 'Grass', 'Level': '9', 'Power': '45', 'Accuracy': '100', 'PP': '25', 'Effect %': '--', 'Description': 'The target is struck with slender, whiplike vines to inflict damage.'}, 'Poison Powder': {'Type': 'Poison', 'Level': '13', 'Power': '--', 'Accuracy': '75', 'PP': '35', 'Effect %': '--', 'Description': 'The user scatters a cloud of poisonous dust that poisons the target.'}, 'Sleep Powder': {'Type': 'Grass', 'Level': '13', 'Power': '--', 'Accuracy': '75', 'PP': '15', 'Effect %': '--', 'Description': 'The user scatters a big cloud of sleep-inducing dust around the target.'}, 'Take Down': {'Type': 'Normal', 'Level': '15', 'Power': '90', 'Accuracy': '85', 'PP': '20', 'Effect %': '--', 'Description': 'A reckless, full-body charge attack for slamming into the target. This also damages the user a little.'}, 'Razor Leaf': {'Type': 'Grass', 'Level': '19', 'Power': '55', 'Accuracy': '95', 'PP': '25', 'Effect %': '--', 'Description': 'Sharp-edged leaves are launched to slash at the opposing Pokémon. Critical hits land more easily.'}, 'Sweet Scent': {'Type': 'Normal', 'Level': '21', 'Power': '--', 'Accuracy': '100', 'PP': '20', 'Effect %': '--', 'Description': \"A sweet scent that harshly lowers opposing Pokémon's evasiveness.\"}, 'Growth': {'Type': 'Normal', 'Level': '25', 'Power': '--', 'Accuracy': '--', 'PP': '20', 'Effect %': '--', 'Description': \"The user's body grows all at once, raising the Attack and Sp. Atk stats.\"}, 'Double-Edge': {'Type': 'Normal', 'Level': '27', 'Power': '120', 'Accuracy': '100', 'PP': '15', 'Effect %': '--', 'Description': 'A reckless, life-risking tackle. This also damages the user quite a lot.'}, 'Worry Seed': {'Type': 'Grass', 'Level': '31', 'Power': '--', 'Accuracy': '100', 'PP': '10', 'Effect %': '--', 'Description': \"A seed that causes worry is planted on the target. It prevents sleep by making the target's Ability Insomnia.\"}, 'Synthesis': {'Type': 'Grass', 'Level': '33', 'Power': '--', 'Accuracy': '--', 'PP': '5', 'Effect %': '--', 'Description': 'The user restores its own HP. The amount of HP regained varies with the weather.'}, 'Seed Bomb': {'Type': 'Grass', 'Level': '37', 'Power': '80', 'Accuracy': '100', 'PP': '15', 'Effect %': '--', 'Description': 'The user slams a barrage of hard-shelled seeds down on the target from above.'}}\n"
     ]
    }
   ],
   "source": [
    "print(final_df.iloc[0]['moves'])"
   ]
  },
  {
   "cell_type": "code",
   "execution_count": 12,
   "id": "51461101-8d7a-4e94-85d9-f9ba9fb73d39",
   "metadata": {},
   "outputs": [],
   "source": [
    "tester_df = final_df['moves']"
   ]
  },
  {
   "cell_type": "code",
   "execution_count": 36,
   "id": "44536437-5ec3-49a2-9f8f-83bd5475fea2",
   "metadata": {},
   "outputs": [
    {
     "name": "stdout",
     "output_type": "stream",
     "text": [
      "<class 'str'>\n"
     ]
    }
   ],
   "source": [
    "print(type(tester_df[0]))"
   ]
  },
  {
   "cell_type": "code",
   "execution_count": null,
   "id": "c9c951f7-3eb5-4282-ab32-c52ee6491893",
   "metadata": {},
   "outputs": [],
   "source": [
    "tester_df.apply(lambda x: f\" {x['bulba_description']}. {x['name']}'s po"
   ]
  },
  {
   "cell_type": "code",
   "execution_count": 40,
   "id": "1e8b5e0e-6e6d-42eb-8310-a6a9b05a4fcd",
   "metadata": {},
   "outputs": [],
   "source": [
    "import ast\n",
    "temp=ast.literal_eval(tester_df[0])"
   ]
  },
  {
   "cell_type": "code",
   "execution_count": null,
   "id": "052c2754-aef1-4ba5-a89c-bad213928ea3",
   "metadata": {},
   "outputs": [],
   "source": [
    "temp"
   ]
  },
  {
   "cell_type": "code",
   "execution_count": 42,
   "id": "229acd73-4d44-478f-9301-d6b6dc77f7e8",
   "metadata": {},
   "outputs": [
    {
     "data": {
      "text/plain": [
       "dict"
      ]
     },
     "execution_count": 42,
     "metadata": {},
     "output_type": "execute_result"
    }
   ],
   "source": [
    "type(temp)"
   ]
  },
  {
   "cell_type": "code",
   "execution_count": 66,
   "id": "54fb23e2-bf1b-4969-a903-f3c95e9170dd",
   "metadata": {},
   "outputs": [
    {
     "name": "stdout",
     "output_type": "stream",
     "text": [
      "can learn Tackle type is Normal\n",
      "can learn Growl type is Normal\n",
      "can learn Vine Whip type is Grass\n",
      "can learn Poison Powder type is Poison\n",
      "can learn Sleep Powder type is Grass\n",
      "can learn Take Down type is Normal\n",
      "can learn Razor Leaf type is Grass\n",
      "can learn Sweet Scent type is Normal\n",
      "can learn Growth type is Normal\n",
      "can learn Double-Edge type is Normal\n",
      "can learn Worry Seed type is Grass\n",
      "can learn Synthesis type is Grass\n",
      "can learn Seed Bomb type is Grass\n"
     ]
    }
   ],
   "source": [
    "l_s = []\n",
    "t_s = \"\"\n",
    "for i in temp:\n",
    "    #print(i)\n",
    "    #print(temp[i]['Type'], \"\\n\")\n",
    "    t_s = \"can learn \" + i + \" type is \" + temp[i]['Type']\n",
    "    print(t_s)\n",
    "    "
   ]
  },
  {
   "cell_type": "code",
   "execution_count": 74,
   "id": "30fa0496-d302-4792-b6e4-d7308bd8473f",
   "metadata": {},
   "outputs": [
    {
     "name": "stdout",
     "output_type": "stream",
     "text": [
      "can learn Tackle type is Normal\n",
      "can learn Growl type is Normal\n",
      "can learn Vine Whip type is Grass\n",
      "can learn Poison Powder type is Poison\n",
      "can learn Sleep Powder type is Grass\n",
      "can learn Take Down type is Normal\n",
      "can learn Razor Leaf type is Grass\n",
      "can learn Sweet Scent type is Normal\n",
      "can learn Growth type is Normal\n",
      "can learn Double-Edge type is Normal\n",
      "can learn Worry Seed type is Grass\n",
      "can learn Synthesis type is Grass\n",
      "can learn Seed Bomb type is Grass\n"
     ]
    }
   ],
   "source": [
    "l_s = []\n",
    "t_s = \"\"\n",
    "for i in temp:\n",
    "    #print(i)\n",
    "    #print(temp[i]['Type'], \"\\n\")\n",
    "    t_s = \"can learn \" + i + \" type is \" + temp[i]['Type']\n",
    "    print(t_s)"
   ]
  },
  {
   "cell_type": "code",
   "execution_count": 3,
   "id": "ce414f72-1bd7-4acf-99f8-a37be33fe0d8",
   "metadata": {},
   "outputs": [],
   "source": [
    "%store -r moves_df\n",
    "tester_df = moves_df"
   ]
  },
  {
   "cell_type": "code",
   "execution_count": 93,
   "id": "2db9bc76-26d2-484a-a218-3b06c9310b6c",
   "metadata": {},
   "outputs": [
    {
     "name": "stdout",
     "output_type": "stream",
     "text": [
      "{'Tackle': {'Type': 'Normal', 'Level': '—', 'Power': '40', 'Accuracy': '100', 'PP': '35', 'Effect %': '--', 'Description': 'A physical attack in which the user charges and slams into the target with its whole body.'}, 'Growl': {'Type': 'Normal', 'Level': '3', 'Power': '--', 'Accuracy': '100', 'PP': '40', 'Effect %': '--', 'Description': 'The user growls in an endearing way, making opposing Pokémon less wary. This lowers their Attack stat.'}, 'Vine Whip': {'Type': 'Grass', 'Level': '9', 'Power': '45', 'Accuracy': '100', 'PP': '25', 'Effect %': '--', 'Description': 'The target is struck with slender, whiplike vines to inflict damage.'}, 'Poison Powder': {'Type': 'Poison', 'Level': '13', 'Power': '--', 'Accuracy': '75', 'PP': '35', 'Effect %': '--', 'Description': 'The user scatters a cloud of poisonous dust that poisons the target.'}, 'Sleep Powder': {'Type': 'Grass', 'Level': '13', 'Power': '--', 'Accuracy': '75', 'PP': '15', 'Effect %': '--', 'Description': 'The user scatters a big cloud of sleep-inducing dust around the target.'}, 'Take Down': {'Type': 'Normal', 'Level': '15', 'Power': '90', 'Accuracy': '85', 'PP': '20', 'Effect %': '--', 'Description': 'A reckless, full-body charge attack for slamming into the target. This also damages the user a little.'}, 'Razor Leaf': {'Type': 'Grass', 'Level': '19', 'Power': '55', 'Accuracy': '95', 'PP': '25', 'Effect %': '--', 'Description': 'Sharp-edged leaves are launched to slash at the opposing Pokémon. Critical hits land more easily.'}, 'Sweet Scent': {'Type': 'Normal', 'Level': '21', 'Power': '--', 'Accuracy': '100', 'PP': '20', 'Effect %': '--', 'Description': \"A sweet scent that harshly lowers opposing Pokémon's evasiveness.\"}, 'Growth': {'Type': 'Normal', 'Level': '25', 'Power': '--', 'Accuracy': '--', 'PP': '20', 'Effect %': '--', 'Description': \"The user's body grows all at once, raising the Attack and Sp. Atk stats.\"}, 'Double-Edge': {'Type': 'Normal', 'Level': '27', 'Power': '120', 'Accuracy': '100', 'PP': '15', 'Effect %': '--', 'Description': 'A reckless, life-risking tackle. This also damages the user quite a lot.'}, 'Worry Seed': {'Type': 'Grass', 'Level': '31', 'Power': '--', 'Accuracy': '100', 'PP': '10', 'Effect %': '--', 'Description': \"A seed that causes worry is planted on the target. It prevents sleep by making the target's Ability Insomnia.\"}, 'Synthesis': {'Type': 'Grass', 'Level': '33', 'Power': '--', 'Accuracy': '--', 'PP': '5', 'Effect %': '--', 'Description': 'The user restores its own HP. The amount of HP regained varies with the weather.'}, 'Seed Bomb': {'Type': 'Grass', 'Level': '37', 'Power': '80', 'Accuracy': '100', 'PP': '15', 'Effect %': '--', 'Description': 'The user slams a barrage of hard-shelled seeds down on the target from above.'}}\n"
     ]
    }
   ],
   "source": [
    "print(tester_df.iloc[0][\"Moves\"])"
   ]
  },
  {
   "cell_type": "code",
   "execution_count": 21,
   "id": "97524641-dbed-4e9e-8c17-c71c57205f88",
   "metadata": {},
   "outputs": [],
   "source": [
    "#temp=ast.literal_eval(tester_df[0])\n",
    "import ast\n",
    "\n",
    "tester_df['moves_text'] = np.nan\n",
    "\n",
    "for i in range(len(tester_df)):\n",
    "    temp = ast.literal_eval(tester_df.iloc[i][\"Moves\"])\n",
    "\n",
    "    temp_string= \"Here is the list of moves \" +tester_df.iloc[i][\"Name\"]+ \" can learn by leveling up: \\n\"\n",
    "    \n",
    "    for elem in temp:\n",
    "        #move name\n",
    "        temp_string= temp_string + tester_df.iloc[i][\"Name\"] + \" can learn \" + elem + \". \"\n",
    "        #type and description\n",
    "        temp_string = temp_string + elem + \" is a \" + temp[elem]['Type'] + \" move. \" + temp[elem]['Description'] + \" \"\n",
    "\n",
    "        #level\n",
    "        if temp[elem]['Level'] == \"—\":\n",
    "            temp_string = temp_string + tester_df.iloc[i][\"Name\"] + \" comes with this move. \"\n",
    "        elif temp[elem]['Level'] == \"Evolve\":\n",
    "            temp_string = temp_string + tester_df.iloc[i][\"Name\"] + \" learns this move upon evolution. \"\n",
    "        else:\n",
    "            temp_string = temp_string + tester_df.iloc[i][\"Name\"] + \" learns this move at level \" + temp[elem]['Level'] + \". \"\n",
    "\n",
    "        #power\n",
    "        if temp[elem]['Power'] == \"--\" or temp[elem]['Power'] == \"??\":\n",
    "            temp_string = temp_string + elem + \" does no damage. \"\n",
    "        else:\n",
    "            temp_string = temp_string + elem + \" does \" + temp[elem]['Power'] + \" damage. \"   \n",
    "        \n",
    "        #accuracy and PP\n",
    "        if temp[elem]['Accuracy'] == \"--\":\n",
    "            temp_string = temp_string + \"It's accuracy is 100% and it's PP (power points), or the number of times it can be used, is \" + temp[elem]['PP'] + \". \"\n",
    "        else:\n",
    "            temp_string = temp_string + \"It's accuracy is \" + temp[elem]['Accuracy'] + \"% and it's PP, or the number of times it can be used, is \" + temp[elem]['PP'] + \". \"\n",
    "        \n",
    "\n",
    "        #effect %\n",
    "        if temp[elem]['Effect %'] == \"--\":\n",
    "            temp_string = temp_string + \"This move has no secondary effect. \"\n",
    "        else:\n",
    "            temp_string = temp_string + \"This move has a secondary effect. The percetage of it happening is \" + temp[elem]['Effect %'] + \"%. \"\n",
    "\n",
    "        temp_string+=\"\\n\"\n",
    "\n",
    "    #print(temp_string)\n",
    "    tester_df.at[i,\"moves_text\"] = temp_string\n",
    "    "
   ]
  },
  {
   "cell_type": "code",
   "execution_count": 23,
   "id": "32109999-930c-47f2-aeb8-5bd8df344285",
   "metadata": {},
   "outputs": [
    {
     "data": {
      "text/plain": [
       "\"Here is the list of moves Mawile can learn by leveling up: \\nMawile can learn Play Rough. Play Rough is a Fairy move. The user plays rough with the target and attacks it. This may also lower the target's Attack stat. Mawile learns this move at level 49. Play Rough does 90 damage. It's accuracy is 90% and it's PP, or the number of times it can be used, is 10. This move has a secondary effect. The percetage of it happening is 10%. \\nMawile can learn Iron Head. Iron Head is a Steel move. The user slams the target with its steel-hard head. This may also make the target flinch. Mawile learns this move at level 45. Iron Head does 80 damage. It's accuracy is 100% and it's PP, or the number of times it can be used, is 15. This move has a secondary effect. The percetage of it happening is 30%. \\nMawile can learn Taunt. Taunt is a Dark move. The target is taunted into a rage that allows it to use only attack moves for three turns. Mawile comes with this move. Taunt does no damage. It's accuracy is 100% and it's PP, or the number of times it can be used, is 20. This move has no secondary effect. \\nMawile can learn Growl. Growl is a Normal move. The user growls in an endearing way, making opposing Pokémon less wary. This lowers their Attack stat. Mawile comes with this move. Growl does no damage. It's accuracy is 100% and it's PP, or the number of times it can be used, is 40. This move has no secondary effect. \\nMawile can learn Fairy Wind. Fairy Wind is a Fairy move. The user stirs up a fairy wind and strikes the target with it. Mawile comes with this move. Fairy Wind does 40 damage. It's accuracy is 100% and it's PP, or the number of times it can be used, is 30. This move has no secondary effect. \\nMawile can learn Astonish. Astonish is a Ghost move. The user attacks the target while shouting in a startling fashion. This may also make the target flinch. Mawile comes with this move. Astonish does 30 damage. It's accuracy is 100% and it's PP, or the number of times it can be used, is 15. This move has a secondary effect. The percetage of it happening is 30%. \\nMawile can learn Fake Tears. Fake Tears is a Dark move. The user feigns crying to fluster the target, harshly lowering its Sp. Def stat. Mawile learns this move at level 5. Fake Tears does no damage. It's accuracy is 100% and it's PP, or the number of times it can be used, is 20. This move has no secondary effect. \\nMawile can learn Bite. Bite is a Dark move. The target is bitten with viciously sharp fangs. This may also make the target flinch. Mawile learns this move at level 9. Bite does 60 damage. It's accuracy is 100% and it's PP, or the number of times it can be used, is 25. This move has a secondary effect. The percetage of it happening is 30%. \\nMawile can learn Sweet Scent. Sweet Scent is a Normal move. A sweet scent that harshly lowers opposing Pokémon's evasiveness. Mawile learns this move at level 13. Sweet Scent does no damage. It's accuracy is 100% and it's PP, or the number of times it can be used, is 20. This move has no secondary effect. \\nMawile can learn Vice Grip. Vice Grip is a Normal move. The target is gripped and squeezed from both sides to inflict damage. Mawile learns this move at level 17. Vice Grip does 55 damage. It's accuracy is 100% and it's PP, or the number of times it can be used, is 30. This move has no secondary effect. \\nMawile can learn Feint Attack. Feint Attack is a Dark move. The user approaches the target disarmingly, then throws a sucker punch. This attack never misses. Mawile learns this move at level 21. Feint Attack does 60 damage. It's accuracy is 100% and it's PP (power points), or the number of times it can be used, is 20. This move has no secondary effect. \\nMawile can learn Baton Pass. Baton Pass is a Normal move. The user switches places with a party Pokémon in waiting and passes along any stat changes. Mawile learns this move at level 25. Baton Pass does no damage. It's accuracy is 100% and it's PP (power points), or the number of times it can be used, is 40. This move has no secondary effect. \\nMawile can learn Crunch. Crunch is a Dark move. The user crunches up the target with sharp fangs. This may also lower the target's Defense stat. Mawile learns this move at level 29. Crunch does 80 damage. It's accuracy is 100% and it's PP, or the number of times it can be used, is 15. This move has a secondary effect. The percetage of it happening is 20%. \\nMawile can learn Iron Defense. Iron Defense is a Steel move. The user hardens its body's surface like iron, sharply raising its Defense stat. Mawile learns this move at level 33. Iron Defense does no damage. It's accuracy is 100% and it's PP (power points), or the number of times it can be used, is 15. This move has no secondary effect. \\nMawile can learn Sucker Punch. Sucker Punch is a Dark move. This move enables the user to attack first. This move fails if the target is not readying an attack. Mawile learns this move at level 37. Sucker Punch does 70 damage. It's accuracy is 100% and it's PP, or the number of times it can be used, is 5. This move has no secondary effect. \\nMawile can learn Stockpile. Stockpile is a Normal move. The user charges up power and raises both its Defense and Sp. Def stats. The move can be used three times. Mawile learns this move at level 41. Stockpile does no damage. It's accuracy is 100% and it's PP (power points), or the number of times it can be used, is 20. This move has no secondary effect. \\nMawile can learn Swallow. Swallow is a Normal move. The power stored using the move Stockpile is absorbed by the user to heal its HP. Storing more power heals more HP. Mawile learns this move at level 41. Swallow does no damage. It's accuracy is 100% and it's PP (power points), or the number of times it can be used, is 10. This move has no secondary effect. \\nMawile can learn Spit Up. Spit Up is a Normal move. The power stored using the move Stockpile is released at once in an attack. The more power is stored, the greater the move's power. Mawile learns this move at level 41. Spit Up does no damage. It's accuracy is 100% and it's PP, or the number of times it can be used, is 10. This move has no secondary effect. \\n\""
      ]
     },
     "execution_count": 23,
     "metadata": {},
     "output_type": "execute_result"
    }
   ],
   "source": [
    "tester_df.iloc[302][\"moves_text\"]"
   ]
  },
  {
   "cell_type": "code",
   "execution_count": null,
   "id": "520f65a9-6b58-470a-bb0c-cbd72539b69d",
   "metadata": {},
   "outputs": [],
   "source": []
  }
 ],
 "metadata": {
  "kernelspec": {
   "display_name": "Python 3 (ipykernel)",
   "language": "python",
   "name": "python3"
  },
  "language_info": {
   "codemirror_mode": {
    "name": "ipython",
    "version": 3
   },
   "file_extension": ".py",
   "mimetype": "text/x-python",
   "name": "python",
   "nbconvert_exporter": "python",
   "pygments_lexer": "ipython3",
   "version": "3.11.4"
  }
 },
 "nbformat": 4,
 "nbformat_minor": 5
}
