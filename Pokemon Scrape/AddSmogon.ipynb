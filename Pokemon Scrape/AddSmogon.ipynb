{
 "cells": [
  {
   "cell_type": "code",
   "execution_count": 130,
   "id": "ea9f6c8e-31f4-4999-a1a6-01ef2d8d8112",
   "metadata": {},
   "outputs": [],
   "source": [
    "import pandas as pd\n",
    "import numpy as np\n",
    "from bs4 import BeautifulSoup\n",
    "from selenium import webdriver\n",
    "from selenium.webdriver.firefox.options import Options\n",
    "from selenium.webdriver.common.by import By\n",
    "import time"
   ]
  },
  {
   "cell_type": "code",
   "execution_count": 92,
   "id": "f73a3cac-73bb-43b0-b861-429b66a0bf97",
   "metadata": {},
   "outputs": [],
   "source": [
    "%store -r df"
   ]
  },
  {
   "cell_type": "code",
   "execution_count": 93,
   "id": "22c2d716-5d14-4e08-9fcb-838b4010cbaa",
   "metadata": {},
   "outputs": [],
   "source": [
    "poke_link = {}"
   ]
  },
  {
   "cell_type": "code",
   "execution_count": 94,
   "id": "3e2d8cb8-f42d-4925-a8fe-ce0a14a5ce47",
   "metadata": {},
   "outputs": [],
   "source": [
    "#setting up dictionary of pokemon and their smogon links\n",
    "for i in range(len(df)):\n",
    "    poke_link[df.iat[i,2]]=('https://www.smogon.com/dex/sm/pokemon/'+df.iat[i, 2]+'/')"
   ]
  },
  {
   "cell_type": "code",
   "execution_count": 43,
   "id": "31a5e8c6-cfeb-4b4f-b1a8-dc23eabea6bf",
   "metadata": {},
   "outputs": [],
   "source": [
    "all_poke_text = {}"
   ]
  },
  {
   "cell_type": "code",
   "execution_count": 45,
   "id": "386931b4-f994-4b86-8bd5-4422518751fc",
   "metadata": {},
   "outputs": [],
   "source": [
    "#cutoff = dict(list(poke_link.items())[110:])"
   ]
  },
  {
   "cell_type": "code",
   "execution_count": null,
   "id": "15a30c65-70d2-488b-a588-27103e9839e3",
   "metadata": {},
   "outputs": [],
   "source": [
    "#get smogon battle strategies for each pokemon\n",
    "for i, (key, value) in enumerate(poke_link.items()):\n",
    "    target_url = value\n",
    "    \n",
    "    print(i, key, value)\n",
    "    \n",
    "    options= Options()\n",
    "    options.add_argument(\"-headless\")\n",
    "    driver = webdriver.Firefox(options=options)\n",
    "    try:\n",
    "        driver.execute_script(f\"location.href='{target_url}';\")\n",
    "    except:\n",
    "        print(\"url syntax issue\")\n",
    "    time.sleep(5)\n",
    "    \n",
    "    resp = driver.page_source\n",
    "    soup = BeautifulSoup(resp) \n",
    "    driver.close()\n",
    "    \n",
    "    poke_text = soup.find(\"section\", {\"data-reactid\": \".0.1.1.2.6\"})\n",
    "    text = \"\"\n",
    "    try:\n",
    "        paragraphs = poke_text.find_all(\"p\")\n",
    "\n",
    "\n",
    "        for para in paragraphs:\n",
    "            text+=para.get_text() + \"\\n\"\n",
    "    except:\n",
    "        print(\"No text available\")\n",
    "\n",
    "    all_poke_text[key] = text\n",
    "    #print(key, all_poke_text[key])\n",
    "            "
   ]
  },
  {
   "cell_type": "code",
   "execution_count": 47,
   "id": "1a9516c6-05c9-4028-bd0f-c729578417d2",
   "metadata": {},
   "outputs": [],
   "source": [
    "smog_df = pd.DataFrame(all_poke_text.items())"
   ]
  },
  {
   "cell_type": "code",
   "execution_count": 48,
   "id": "2a954619-1dd7-4809-8674-e41aa62a34ea",
   "metadata": {},
   "outputs": [
    {
     "data": {
      "text/html": [
       "<div>\n",
       "<style scoped>\n",
       "    .dataframe tbody tr th:only-of-type {\n",
       "        vertical-align: middle;\n",
       "    }\n",
       "\n",
       "    .dataframe tbody tr th {\n",
       "        vertical-align: top;\n",
       "    }\n",
       "\n",
       "    .dataframe thead th {\n",
       "        text-align: right;\n",
       "    }\n",
       "</style>\n",
       "<table border=\"1\" class=\"dataframe\">\n",
       "  <thead>\n",
       "    <tr style=\"text-align: right;\">\n",
       "      <th></th>\n",
       "      <th>0</th>\n",
       "      <th>1</th>\n",
       "    </tr>\n",
       "  </thead>\n",
       "  <tbody>\n",
       "    <tr>\n",
       "      <th>0</th>\n",
       "      <td>Bulbasaur</td>\n",
       "      <td>Bulbasaur is a potent sweeper in the LC metaga...</td>\n",
       "    </tr>\n",
       "    <tr>\n",
       "      <th>1</th>\n",
       "      <td>Ivysaur</td>\n",
       "      <td>No movesets available. Perhaps you could help ...</td>\n",
       "    </tr>\n",
       "    <tr>\n",
       "      <th>2</th>\n",
       "      <td>Venusaur</td>\n",
       "      <td>Venusaur is an excellent choice for sun teams,...</td>\n",
       "    </tr>\n",
       "    <tr>\n",
       "      <th>3</th>\n",
       "      <td>Mega Venusaur</td>\n",
       "      <td></td>\n",
       "    </tr>\n",
       "    <tr>\n",
       "      <th>4</th>\n",
       "      <td>Charmander</td>\n",
       "      <td>Charmander might look like a good Pokemon to u...</td>\n",
       "    </tr>\n",
       "  </tbody>\n",
       "</table>\n",
       "</div>"
      ],
      "text/plain": [
       "               0                                                  1\n",
       "0      Bulbasaur  Bulbasaur is a potent sweeper in the LC metaga...\n",
       "1        Ivysaur  No movesets available. Perhaps you could help ...\n",
       "2       Venusaur  Venusaur is an excellent choice for sun teams,...\n",
       "3  Mega Venusaur                                                   \n",
       "4     Charmander  Charmander might look like a good Pokemon to u..."
      ]
     },
     "execution_count": 48,
     "metadata": {},
     "output_type": "execute_result"
    }
   ],
   "source": [
    "smog_df.head()"
   ]
  },
  {
   "cell_type": "code",
   "execution_count": 49,
   "id": "e459b026-3ae3-4af5-8bf2-82d55843e5fc",
   "metadata": {},
   "outputs": [],
   "source": [
    "#rename columns\n",
    "smog_df.columns=[\"Pokemon\", \"Smogon_Description\"]"
   ]
  },
  {
   "cell_type": "code",
   "execution_count": 50,
   "id": "ada0e1d7-4363-4d43-9089-ce891f8a9a75",
   "metadata": {},
   "outputs": [
    {
     "data": {
      "text/html": [
       "<div>\n",
       "<style scoped>\n",
       "    .dataframe tbody tr th:only-of-type {\n",
       "        vertical-align: middle;\n",
       "    }\n",
       "\n",
       "    .dataframe tbody tr th {\n",
       "        vertical-align: top;\n",
       "    }\n",
       "\n",
       "    .dataframe thead th {\n",
       "        text-align: right;\n",
       "    }\n",
       "</style>\n",
       "<table border=\"1\" class=\"dataframe\">\n",
       "  <thead>\n",
       "    <tr style=\"text-align: right;\">\n",
       "      <th></th>\n",
       "      <th>Pokemon</th>\n",
       "      <th>Smogon_Description</th>\n",
       "    </tr>\n",
       "  </thead>\n",
       "  <tbody>\n",
       "    <tr>\n",
       "      <th>0</th>\n",
       "      <td>Bulbasaur</td>\n",
       "      <td>Bulbasaur is a potent sweeper in the LC metaga...</td>\n",
       "    </tr>\n",
       "    <tr>\n",
       "      <th>1</th>\n",
       "      <td>Ivysaur</td>\n",
       "      <td>No movesets available. Perhaps you could help ...</td>\n",
       "    </tr>\n",
       "    <tr>\n",
       "      <th>2</th>\n",
       "      <td>Venusaur</td>\n",
       "      <td>Venusaur is an excellent choice for sun teams,...</td>\n",
       "    </tr>\n",
       "    <tr>\n",
       "      <th>3</th>\n",
       "      <td>Mega Venusaur</td>\n",
       "      <td></td>\n",
       "    </tr>\n",
       "    <tr>\n",
       "      <th>4</th>\n",
       "      <td>Charmander</td>\n",
       "      <td>Charmander might look like a good Pokemon to u...</td>\n",
       "    </tr>\n",
       "  </tbody>\n",
       "</table>\n",
       "</div>"
      ],
      "text/plain": [
       "         Pokemon                                 Smogon_Description\n",
       "0      Bulbasaur  Bulbasaur is a potent sweeper in the LC metaga...\n",
       "1        Ivysaur  No movesets available. Perhaps you could help ...\n",
       "2       Venusaur  Venusaur is an excellent choice for sun teams,...\n",
       "3  Mega Venusaur                                                   \n",
       "4     Charmander  Charmander might look like a good Pokemon to u..."
      ]
     },
     "execution_count": 50,
     "metadata": {},
     "output_type": "execute_result"
    }
   ],
   "source": [
    "smog_df.head()"
   ]
  },
  {
   "cell_type": "code",
   "execution_count": 51,
   "id": "d28860e5-cb47-4ff9-8603-ffc5d2501c1b",
   "metadata": {},
   "outputs": [],
   "source": [
    "smog_df.to_csv('smog_df.csv')"
   ]
  },
  {
   "cell_type": "code",
   "execution_count": 52,
   "id": "cb4f5657-8aad-416d-a335-936bfb20b78a",
   "metadata": {},
   "outputs": [
    {
     "name": "stdout",
     "output_type": "stream",
     "text": [
      "Stored 'smog_df' (DataFrame)\n"
     ]
    }
   ],
   "source": [
    "%store smog_df"
   ]
  },
  {
   "cell_type": "code",
   "execution_count": 158,
   "id": "c7bdaa93-400a-457b-b88f-0a987ff7fd5d",
   "metadata": {},
   "outputs": [],
   "source": [
    "%store -r smog_df"
   ]
  },
  {
   "cell_type": "code",
   "execution_count": 159,
   "id": "10dbbcc4-09b7-42d8-838c-75fe991940bd",
   "metadata": {},
   "outputs": [
    {
     "data": {
      "text/html": [
       "<div>\n",
       "<style scoped>\n",
       "    .dataframe tbody tr th:only-of-type {\n",
       "        vertical-align: middle;\n",
       "    }\n",
       "\n",
       "    .dataframe tbody tr th {\n",
       "        vertical-align: top;\n",
       "    }\n",
       "\n",
       "    .dataframe thead th {\n",
       "        text-align: right;\n",
       "    }\n",
       "</style>\n",
       "<table border=\"1\" class=\"dataframe\">\n",
       "  <thead>\n",
       "    <tr style=\"text-align: right;\">\n",
       "      <th></th>\n",
       "      <th>Pokemon</th>\n",
       "      <th>Smogon_Description</th>\n",
       "    </tr>\n",
       "  </thead>\n",
       "  <tbody>\n",
       "    <tr>\n",
       "      <th>0</th>\n",
       "      <td>Bulbasaur</td>\n",
       "      <td>Bulbasaur is a potent sweeper in the LC metaga...</td>\n",
       "    </tr>\n",
       "    <tr>\n",
       "      <th>1</th>\n",
       "      <td>Ivysaur</td>\n",
       "      <td>No movesets available. Perhaps you could help ...</td>\n",
       "    </tr>\n",
       "    <tr>\n",
       "      <th>2</th>\n",
       "      <td>Venusaur</td>\n",
       "      <td>Venusaur is an excellent choice for sun teams,...</td>\n",
       "    </tr>\n",
       "    <tr>\n",
       "      <th>3</th>\n",
       "      <td>Venusaur is an excellent choice for sun teams,...</td>\n",
       "      <td>Venusaur is an excellent choice for sun teams,...</td>\n",
       "    </tr>\n",
       "    <tr>\n",
       "      <th>4</th>\n",
       "      <td>Charmander</td>\n",
       "      <td>Charmander might look like a good Pokemon to u...</td>\n",
       "    </tr>\n",
       "  </tbody>\n",
       "</table>\n",
       "</div>"
      ],
      "text/plain": [
       "                                             Pokemon  \\\n",
       "0                                          Bulbasaur   \n",
       "1                                            Ivysaur   \n",
       "2                                           Venusaur   \n",
       "3  Venusaur is an excellent choice for sun teams,...   \n",
       "4                                         Charmander   \n",
       "\n",
       "                                  Smogon_Description  \n",
       "0  Bulbasaur is a potent sweeper in the LC metaga...  \n",
       "1  No movesets available. Perhaps you could help ...  \n",
       "2  Venusaur is an excellent choice for sun teams,...  \n",
       "3  Venusaur is an excellent choice for sun teams,...  \n",
       "4  Charmander might look like a good Pokemon to u...  "
      ]
     },
     "execution_count": 159,
     "metadata": {},
     "output_type": "execute_result"
    }
   ],
   "source": [
    "smog_df.head()"
   ]
  },
  {
   "cell_type": "code",
   "execution_count": 153,
   "id": "b40fca5b-ed0b-4a66-bcb9-4d51e8d1557d",
   "metadata": {},
   "outputs": [],
   "source": [
    "#get missing entries\n",
    "missing_entries = list(smog_df[smog_df.eq(\"\").any(axis=1)][\"Pokemon\"])"
   ]
  },
  {
   "cell_type": "code",
   "execution_count": 154,
   "id": "01c930d5-10f1-4f51-9530-71b51a48c469",
   "metadata": {},
   "outputs": [],
   "source": [
    "missing_ent_dict = {}"
   ]
  },
  {
   "cell_type": "code",
   "execution_count": 155,
   "id": "5902a8ce-2729-416f-b201-1f607e86c44d",
   "metadata": {},
   "outputs": [],
   "source": [
    "#reformatting smogon links to handle special case pokemon (ex: Galarian Farfetch'd)\n",
    "for ind, elem in enumerate(missing_entries)):\n",
    "    key = elem\n",
    "    if \" \" in missing_entries[ind]:\n",
    "        missing_entries[ind] = elem.replace(\" \", \"-\")\n",
    "    if \"Mega\" in missing_entries[ind] or \"Alolan\" in missing_entries[ind] or \"Galarian\" in missing_entries[ind]:\n",
    "        if \"Alolan\" in missing_entries[ind]:\n",
    "            missing_entries[ind] = elem[elem.index(\"-\")+1:] + \"-\" + elem[:elem.index(\"-\")-1]\n",
    "        elif \"Galarian\" in missing_entries[ind]:\n",
    "            missing_entries[ind] = elem[elem.index(\"-\")+1:] + \"-\" + elem[:elem.index(\"-\")-3]\n",
    "        else:\n",
    "            missing_entries[ind] = elem[elem.index(\"-\")+1:] + \"-\" + elem[:elem.index(\"-\")]\n",
    "    if \".\" in missing_entries[ind]:\n",
    "        missing_entries[ind] = elem.replace(\".\", \"\")\n",
    "    if \"'\" in missing_entries[ind]:\n",
    "        missing_entries[ind] = elem.replace(\"'\", \"\")\n",
    "    if \"♀\" in missing_entries[ind]:\n",
    "        missing_entries[ind] = elem.replace(\"♀\", \"-f\")\n",
    "    if \"♂\" in missing_entries[ind]:\n",
    "        missing_entries[ind] = elem.replace(\"♂\", \"-m\")\n",
    "    \n",
    "\n",
    "    missing_ent_dict[key] = 'https://www.smogon.com/dex/sm/pokemon/' + missing_entries[ind] + \"/\"\n"
   ]
  },
  {
   "cell_type": "code",
   "execution_count": null,
   "id": "ece19028-e9c5-464d-aaca-abc53e06f477",
   "metadata": {},
   "outputs": [],
   "source": [
    "missing_entries"
   ]
  },
  {
   "cell_type": "code",
   "execution_count": null,
   "id": "ff5bac87-2296-4623-9880-e0d4842a5f56",
   "metadata": {},
   "outputs": [],
   "source": [
    "for i, (key, value) in enumerate(missing_ent_dict.items()):\n",
    "    target_url = value\n",
    "    \n",
    "    print(i, key, value)\n",
    "    \n",
    "    options= Options()\n",
    "    options.add_argument(\"-headless\")\n",
    "    driver = webdriver.Firefox(options=options)\n",
    "    driver.execute_script(f\"location.href='{target_url}';\")\n",
    "    time.sleep(5)\n",
    "    \n",
    "    resp = driver.page_source\n",
    "    soup = BeautifulSoup(resp) \n",
    "    driver.close()\n",
    "    \n",
    "    poke_text = soup.find(\"section\", {\"data-reactid\": \".0.1.1.2.6\"})\n",
    "    text = \"\"\n",
    "    try:\n",
    "        paragraphs = poke_text.find_all(\"p\")\n",
    "\n",
    "        for para in paragraphs:\n",
    "            text+=para.get_text() + \"\\n\"\n",
    "    except:\n",
    "        try:\n",
    "            print(\"trying SS pokedex...\")\n",
    "            new_value = value.replace(\"/sm/\", \"/ss/\")\n",
    "            target_url = new_value\n",
    "            print(target_url, \"\\n\")\n",
    "            \n",
    "            options= Options()\n",
    "            options.add_argument(\"-headless\")\n",
    "            driver = webdriver.Firefox(options=options)\n",
    "            driver.execute_script(f\"location.href='{target_url}';\")\n",
    "            time.sleep(5)\n",
    "    \n",
    "            resp = driver.page_source\n",
    "            soup = BeautifulSoup(resp) \n",
    "            driver.close()\n",
    "            \n",
    "            poke_text = soup.find(\"section\", {\"data-reactid\": \".0.1.1.2.6\"})\n",
    "            try:\n",
    "                paragraphs = poke_text.find_all(\"p\")\n",
    "\n",
    "                for para in paragraphs:\n",
    "                    text+=para.get_text() + \"\\n\"\n",
    "            except:\n",
    "                print(\"No text available\")\n",
    "        except:\n",
    "            print(\"No text available\")\n",
    "            \n",
    "\n",
    "    smog_df.loc[smog_df['Pokemon'] == key, \"Smogon_Description\"] = text"
   ]
  },
  {
   "cell_type": "code",
   "execution_count": 151,
   "id": "cd4f304a-a23c-4fa9-a457-5e43c0d72259",
   "metadata": {},
   "outputs": [
    {
     "data": {
      "text/plain": [
       "2    Venusaur is an excellent choice for sun teams,...\n",
       "Name: Smogon_Description, dtype: object"
      ]
     },
     "execution_count": 151,
     "metadata": {},
     "output_type": "execute_result"
    }
   ],
   "source": [
    "#see smogon description of select pokemon\n",
    "#smog_df.loc[smog_df['Pokemon'] == \"Venusaur\"][\"Smogon_Description\"]"
   ]
  },
  {
   "cell_type": "code",
   "execution_count": 165,
   "id": "c2b2696e-731e-4364-be37-45dd6569e20f",
   "metadata": {},
   "outputs": [
    {
     "name": "stdout",
     "output_type": "stream",
     "text": [
      "Stored 'smog_df' (DataFrame)\n"
     ]
    }
   ],
   "source": [
    "%store smog_df"
   ]
  },
  {
   "cell_type": "code",
   "execution_count": 166,
   "id": "0c806684-f40c-4ec7-bbfe-aac02ba36321",
   "metadata": {},
   "outputs": [
    {
     "data": {
      "text/html": [
       "<div>\n",
       "<style scoped>\n",
       "    .dataframe tbody tr th:only-of-type {\n",
       "        vertical-align: middle;\n",
       "    }\n",
       "\n",
       "    .dataframe tbody tr th {\n",
       "        vertical-align: top;\n",
       "    }\n",
       "\n",
       "    .dataframe thead th {\n",
       "        text-align: right;\n",
       "    }\n",
       "</style>\n",
       "<table border=\"1\" class=\"dataframe\">\n",
       "  <thead>\n",
       "    <tr style=\"text-align: right;\">\n",
       "      <th></th>\n",
       "      <th>Pokemon</th>\n",
       "      <th>Smogon_Description</th>\n",
       "    </tr>\n",
       "  </thead>\n",
       "  <tbody>\n",
       "    <tr>\n",
       "      <th>0</th>\n",
       "      <td>Bulbasaur</td>\n",
       "      <td>Bulbasaur is a potent sweeper in the LC metaga...</td>\n",
       "    </tr>\n",
       "    <tr>\n",
       "      <th>1</th>\n",
       "      <td>Ivysaur</td>\n",
       "      <td>No movesets available. Perhaps you could help ...</td>\n",
       "    </tr>\n",
       "    <tr>\n",
       "      <th>2</th>\n",
       "      <td>Venusaur</td>\n",
       "      <td>Venusaur is an excellent choice for sun teams,...</td>\n",
       "    </tr>\n",
       "    <tr>\n",
       "      <th>3</th>\n",
       "      <td>Mega Venusaur</td>\n",
       "      <td>Venusaur is an excellent choice for sun teams,...</td>\n",
       "    </tr>\n",
       "    <tr>\n",
       "      <th>4</th>\n",
       "      <td>Charmander</td>\n",
       "      <td>Charmander might look like a good Pokemon to u...</td>\n",
       "    </tr>\n",
       "  </tbody>\n",
       "</table>\n",
       "</div>"
      ],
      "text/plain": [
       "         Pokemon                                 Smogon_Description\n",
       "0      Bulbasaur  Bulbasaur is a potent sweeper in the LC metaga...\n",
       "1        Ivysaur  No movesets available. Perhaps you could help ...\n",
       "2       Venusaur  Venusaur is an excellent choice for sun teams,...\n",
       "3  Mega Venusaur  Venusaur is an excellent choice for sun teams,...\n",
       "4     Charmander  Charmander might look like a good Pokemon to u..."
      ]
     },
     "execution_count": 166,
     "metadata": {},
     "output_type": "execute_result"
    }
   ],
   "source": [
    "smog_df.head()"
   ]
  },
  {
   "cell_type": "code",
   "execution_count": 173,
   "id": "39d418d4-7418-480a-8a8f-bca76ed9acb5",
   "metadata": {},
   "outputs": [],
   "source": [
    "missing_entries = list(smog_df[smog_df.eq(\"\").any(axis=1)][\"Pokemon\"] + \" smogon\")"
   ]
  },
  {
   "cell_type": "code",
   "execution_count": 201,
   "id": "dd4f8a27-49ca-4e77-8fa7-6cfd5898776c",
   "metadata": {},
   "outputs": [],
   "source": [
    "#reformatting\n",
    "for index, elem in enumerate(missing_entries):\n",
    "    if \"'\" in elem:\n",
    "        missing_entries[index] = elem.replace(\"'\", \"\")"
   ]
  },
  {
   "cell_type": "code",
   "execution_count": 207,
   "id": "64191ffa-45ba-45bd-a997-b9be104f3ed6",
   "metadata": {},
   "outputs": [
    {
     "data": {
      "text/plain": [
       "'Minior Meteor Form smogon'"
      ]
     },
     "execution_count": 207,
     "metadata": {},
     "output_type": "execute_result"
    }
   ],
   "source": [
    "#cutoff = missing_entries[82:]"
   ]
  },
  {
   "cell_type": "code",
   "execution_count": null,
   "id": "ab14f048-6ec5-494a-ba71-d7507a67d7fb",
   "metadata": {},
   "outputs": [],
   "source": [
    "for i in range(len(missing_entries)):\n",
    "    entry = missing_entries[i]\n",
    "    poke_name = entry[:-7]\n",
    "    target_url = \"https://www.google.com/search?q=\"+entry\n",
    "\n",
    "    print(poke_name)\n",
    "    \n",
    "    options= Options()\n",
    "    options.add_argument(\"-headless\")\n",
    "    driver = webdriver.Firefox(options=options)\n",
    "    driver.execute_script(f\"location.href='{target_url}';\")\n",
    "    print(\"google\")\n",
    "    time.sleep(3)\n",
    "\n",
    "    result = driver.find_element(By.TAG_NAME,'h3')\n",
    "    result.click()\n",
    "    print(\"smogon\")\n",
    "    time.sleep(5)\n",
    "    resp = driver.page_source\n",
    "    soup = BeautifulSoup(resp) \n",
    "    driver.close()\n",
    "    \n",
    "    poke_text = soup.find(\"section\", {\"data-reactid\": \".0.1.1.2.6\"})\n",
    "    text = \"\"\n",
    "\n",
    "    try:\n",
    "        paragraphs = poke_text.find_all(\"p\")\n",
    "\n",
    "        for para in paragraphs:\n",
    "            text+=para.get_text() + \"\\n\"\n",
    "    except:\n",
    "        print(\"lol\")\n",
    "            \n",
    "    smog_df.loc[smog_df['Pokemon'] == poke_name, \"Smogon_Description\"] = text"
   ]
  },
  {
   "cell_type": "code",
   "execution_count": 218,
   "id": "bce9449e-23fc-4ec4-af08-1de835771a4d",
   "metadata": {},
   "outputs": [
    {
     "data": {
      "text/html": [
       "<div>\n",
       "<style scoped>\n",
       "    .dataframe tbody tr th:only-of-type {\n",
       "        vertical-align: middle;\n",
       "    }\n",
       "\n",
       "    .dataframe tbody tr th {\n",
       "        vertical-align: top;\n",
       "    }\n",
       "\n",
       "    .dataframe thead th {\n",
       "        text-align: right;\n",
       "    }\n",
       "</style>\n",
       "<table border=\"1\" class=\"dataframe\">\n",
       "  <thead>\n",
       "    <tr style=\"text-align: right;\">\n",
       "      <th></th>\n",
       "      <th>Pokemon</th>\n",
       "      <th>Smogon_Description</th>\n",
       "    </tr>\n",
       "  </thead>\n",
       "  <tbody>\n",
       "    <tr>\n",
       "      <th>0</th>\n",
       "      <td>Bulbasaur</td>\n",
       "      <td>Bulbasaur is a potent sweeper in the LC metaga...</td>\n",
       "    </tr>\n",
       "    <tr>\n",
       "      <th>1</th>\n",
       "      <td>Ivysaur</td>\n",
       "      <td>No movesets available. Perhaps you could help ...</td>\n",
       "    </tr>\n",
       "    <tr>\n",
       "      <th>2</th>\n",
       "      <td>Venusaur</td>\n",
       "      <td>Venusaur is an excellent choice for sun teams,...</td>\n",
       "    </tr>\n",
       "    <tr>\n",
       "      <th>3</th>\n",
       "      <td>Mega Venusaur</td>\n",
       "      <td>Venusaur is an excellent choice for sun teams,...</td>\n",
       "    </tr>\n",
       "    <tr>\n",
       "      <th>4</th>\n",
       "      <td>Charmander</td>\n",
       "      <td>Charmander might look like a good Pokemon to u...</td>\n",
       "    </tr>\n",
       "  </tbody>\n",
       "</table>\n",
       "</div>"
      ],
      "text/plain": [
       "         Pokemon                                 Smogon_Description\n",
       "0      Bulbasaur  Bulbasaur is a potent sweeper in the LC metaga...\n",
       "1        Ivysaur  No movesets available. Perhaps you could help ...\n",
       "2       Venusaur  Venusaur is an excellent choice for sun teams,...\n",
       "3  Mega Venusaur  Venusaur is an excellent choice for sun teams,...\n",
       "4     Charmander  Charmander might look like a good Pokemon to u..."
      ]
     },
     "execution_count": 218,
     "metadata": {},
     "output_type": "execute_result"
    }
   ],
   "source": [
    "smog_df.head()"
   ]
  },
  {
   "cell_type": "code",
   "execution_count": 2,
   "id": "4b911810-6804-4e68-8e0e-ddf824eaaa95",
   "metadata": {},
   "outputs": [],
   "source": [
    "%store -r smog_df"
   ]
  },
  {
   "cell_type": "code",
   "execution_count": 3,
   "id": "7cdc3e3a-c935-4adf-a453-2ac838b917f4",
   "metadata": {},
   "outputs": [],
   "source": [
    "missing_entries = list(smog_df[smog_df.eq(\"\").any(axis=1)][\"Pokemon\"])"
   ]
  },
  {
   "cell_type": "code",
   "execution_count": 4,
   "id": "a533cdbb-f86e-4b33-8d74-5759c0d32faa",
   "metadata": {},
   "outputs": [
    {
     "data": {
      "text/plain": [
       "[\"Galarian Farfetch'd\",\n",
       " 'Ampharos',\n",
       " 'Mega Ampharos',\n",
       " 'Giratina Origin Forme',\n",
       " 'Eelektrik',\n",
       " \"Oricorio Pa'u Style\",\n",
       " 'Minior Meteor Form',\n",
       " 'Barraskewda',\n",
       " 'Eiscue Ice Face',\n",
       " 'Eiscue Noice Face',\n",
       " 'Morpeko Full Belly Mode',\n",
       " 'Arctozolt']"
      ]
     },
     "execution_count": 4,
     "metadata": {},
     "output_type": "execute_result"
    }
   ],
   "source": [
    "missing_entries"
   ]
  },
  {
   "cell_type": "code",
   "execution_count": 232,
   "id": "4b18f498-3eb9-44fc-bede-5d9e1f2dd5d3",
   "metadata": {},
   "outputs": [
    {
     "data": {
      "text/plain": [
       "752    Faster Foes: Landorus's poor bulk leaves it vu...\n",
       "Name: Smogon_Description, dtype: object"
      ]
     },
     "execution_count": 232,
     "metadata": {},
     "output_type": "execute_result"
    }
   ],
   "source": [
    "#smog_df.loc[smog_df['Pokemon'] == \"Landorus Incarnate Forme\"][\"Smogon_Description\"]"
   ]
  },
  {
   "cell_type": "code",
   "execution_count": 5,
   "id": "a584671e-fd53-4e36-aa71-2c2e9e3a25d4",
   "metadata": {},
   "outputs": [],
   "source": [
    "#doing manually since so few, special cases\n",
    "missing_ent_dict = {\"Galarian Farfetch'd\": \"https://www.smogon.com/dex/ss/pokemon/farfetchd-galar/\",\n",
    "                    'Ampharos': \"https://www.smogon.com/dex/xy/pokemon/ampharos/\",\n",
    "                    'Mega Ampharos' : \"https://www.smogon.com/dex/xy/pokemon/ampharos/\",\n",
    "                    'Giratina Origin Forme': \"https://www.smogon.com/dex/ss/pokemon/giratina-origin/\",\n",
    "                    'Eelektrik': \"https://www.smogon.com/dex/ss/pokemon/eelektrik/\",\n",
    "                    \"Oricorio Pa'u Style\": \"https://www.smogon.com/dex/sm/pokemon/oricorio-pau/\",\n",
    "                    'Minior Meteor Form': \"https://www.smogon.com/dex/sm/pokemon/minior/\",\n",
    "                    'Barraskewda' : \"https://www.smogon.com/dex/ss/pokemon/barraskewda/almost-any-ability/\",\n",
    "                    'Eiscue Ice Face': \"https://www.smogon.com/dex/ss/pokemon/eiscue/\",\n",
    "                    'Eiscue Noice Face' : \"https://www.smogon.com/dex/ss/pokemon/eiscue/\",\n",
    "                    'Morpeko Full Belly Mode' : \"https://www.smogon.com/dex/ss/pokemon/morpeko/\",\n",
    "                    'Arctozolt': \"https://www.smogon.com/dex/ss/pokemon/arctozolt/national-dex/\"}\n",
    "                    "
   ]
  },
  {
   "cell_type": "code",
   "execution_count": 9,
   "id": "bd6a8e67-3c12-45ce-a189-695ea73727b8",
   "metadata": {},
   "outputs": [
    {
     "name": "stdout",
     "output_type": "stream",
     "text": [
      "0 Galarian Farfetch'd https://www.smogon.com/dex/ss/pokemon/farfetchd-galar/\n",
      "1 Ampharos https://www.smogon.com/dex/xy/pokemon/ampharos/\n",
      "2 Mega Ampharos https://www.smogon.com/dex/xy/pokemon/ampharos/\n",
      "3 Giratina Origin Forme https://www.smogon.com/dex/ss/pokemon/giratina-origin/\n",
      "4 Eelektrik https://www.smogon.com/dex/ss/pokemon/eelektrik/\n",
      "5 Oricorio Pa'u Style https://www.smogon.com/dex/sm/pokemon/oricorio-pau/\n",
      "6 Minior Meteor Form https://www.smogon.com/dex/sm/pokemon/minior/\n",
      "7 Barraskewda https://www.smogon.com/dex/ss/pokemon/barraskewda/almost-any-ability/\n",
      "8 Eiscue Ice Face https://www.smogon.com/dex/ss/pokemon/eiscue/\n",
      "9 Eiscue Noice Face https://www.smogon.com/dex/ss/pokemon/eiscue/\n",
      "10 Morpeko Full Belly Mode https://www.smogon.com/dex/ss/pokemon/morpeko/\n",
      "11 Arctozolt https://www.smogon.com/dex/ss/pokemon/arctozolt/national-dex/\n"
     ]
    }
   ],
   "source": [
    "for i, (key, value) in enumerate(missing_ent_dict.items()):\n",
    "\n",
    "    target_url = value\n",
    "\n",
    "    print(i, key, value)\n",
    "    \n",
    "    options= Options()\n",
    "    options.add_argument(\"-headless\")\n",
    "    driver = webdriver.Firefox(options=options)\n",
    "    driver.execute_script(f\"location.href='{target_url}';\")\n",
    "    time.sleep(5)\n",
    "    resp = driver.page_source\n",
    "    soup = BeautifulSoup(resp) \n",
    "    driver.close()\n",
    "    \n",
    "    poke_text = soup.find(\"section\", {\"data-reactid\": \".0.1.1.2.6\"})\n",
    "    text = \"\"\n",
    "\n",
    "    try:\n",
    "        paragraphs = poke_text.find_all(\"p\")\n",
    "\n",
    "        for para in paragraphs:\n",
    "            text+=para.get_text() + \"\\n\"\n",
    "    except:\n",
    "        print(\"lol\")\n",
    "            \n",
    "    smog_df.loc[smog_df['Pokemon'] == key, \"Smogon_Description\"] = text"
   ]
  },
  {
   "cell_type": "code",
   "execution_count": 12,
   "id": "6b35dc02-73ee-4e8c-b000-ecb5ff1ea338",
   "metadata": {},
   "outputs": [],
   "source": [
    "missing_entries = list(smog_df[smog_df.eq(\"\").any(axis=1)][\"Pokemon\"])"
   ]
  },
  {
   "cell_type": "code",
   "execution_count": 14,
   "id": "8d457ba8-3c49-45e7-a5d2-4702517e5d52",
   "metadata": {},
   "outputs": [
    {
     "name": "stdout",
     "output_type": "stream",
     "text": [
      "Stored 'smog_df' (DataFrame)\n"
     ]
    }
   ],
   "source": [
    "%store smog_df"
   ]
  },
  {
   "cell_type": "code",
   "execution_count": 15,
   "id": "4047dbf7-1fbc-43a1-b4ce-7ed6030187ca",
   "metadata": {},
   "outputs": [],
   "source": [
    "smog_df.to_csv('smog_df.csv')"
   ]
  },
  {
   "cell_type": "code",
   "execution_count": 16,
   "id": "ab4d81b6-4f6d-47d7-8a76-49cbabf5fe95",
   "metadata": {},
   "outputs": [
    {
     "data": {
      "text/html": [
       "<div>\n",
       "<style scoped>\n",
       "    .dataframe tbody tr th:only-of-type {\n",
       "        vertical-align: middle;\n",
       "    }\n",
       "\n",
       "    .dataframe tbody tr th {\n",
       "        vertical-align: top;\n",
       "    }\n",
       "\n",
       "    .dataframe thead th {\n",
       "        text-align: right;\n",
       "    }\n",
       "</style>\n",
       "<table border=\"1\" class=\"dataframe\">\n",
       "  <thead>\n",
       "    <tr style=\"text-align: right;\">\n",
       "      <th></th>\n",
       "      <th>Pokemon</th>\n",
       "      <th>Smogon_Description</th>\n",
       "    </tr>\n",
       "  </thead>\n",
       "  <tbody>\n",
       "    <tr>\n",
       "      <th>0</th>\n",
       "      <td>Bulbasaur</td>\n",
       "      <td>Bulbasaur is a potent sweeper in the LC metaga...</td>\n",
       "    </tr>\n",
       "    <tr>\n",
       "      <th>1</th>\n",
       "      <td>Ivysaur</td>\n",
       "      <td>No movesets available. Perhaps you could help ...</td>\n",
       "    </tr>\n",
       "    <tr>\n",
       "      <th>2</th>\n",
       "      <td>Venusaur</td>\n",
       "      <td>Venusaur is an excellent choice for sun teams,...</td>\n",
       "    </tr>\n",
       "    <tr>\n",
       "      <th>3</th>\n",
       "      <td>Mega Venusaur</td>\n",
       "      <td>Venusaur is an excellent choice for sun teams,...</td>\n",
       "    </tr>\n",
       "    <tr>\n",
       "      <th>4</th>\n",
       "      <td>Charmander</td>\n",
       "      <td>Charmander might look like a good Pokemon to u...</td>\n",
       "    </tr>\n",
       "  </tbody>\n",
       "</table>\n",
       "</div>"
      ],
      "text/plain": [
       "         Pokemon                                 Smogon_Description\n",
       "0      Bulbasaur  Bulbasaur is a potent sweeper in the LC metaga...\n",
       "1        Ivysaur  No movesets available. Perhaps you could help ...\n",
       "2       Venusaur  Venusaur is an excellent choice for sun teams,...\n",
       "3  Mega Venusaur  Venusaur is an excellent choice for sun teams,...\n",
       "4     Charmander  Charmander might look like a good Pokemon to u..."
      ]
     },
     "execution_count": 16,
     "metadata": {},
     "output_type": "execute_result"
    }
   ],
   "source": [
    "smog_df.head()"
   ]
  },
  {
   "cell_type": "code",
   "execution_count": 59,
   "id": "8080d037-c2e4-414f-9b27-f5d9ec61db6f",
   "metadata": {},
   "outputs": [
    {
     "data": {
      "text/html": [
       "<div>\n",
       "<style scoped>\n",
       "    .dataframe tbody tr th:only-of-type {\n",
       "        vertical-align: middle;\n",
       "    }\n",
       "\n",
       "    .dataframe tbody tr th {\n",
       "        vertical-align: top;\n",
       "    }\n",
       "\n",
       "    .dataframe thead th {\n",
       "        text-align: right;\n",
       "    }\n",
       "</style>\n",
       "<table border=\"1\" class=\"dataframe\">\n",
       "  <thead>\n",
       "    <tr style=\"text-align: right;\">\n",
       "      <th></th>\n",
       "      <th>Pokemon</th>\n",
       "      <th>Smogon_Description</th>\n",
       "    </tr>\n",
       "  </thead>\n",
       "  <tbody>\n",
       "    <tr>\n",
       "      <th>0</th>\n",
       "      <td>Bulbasaur</td>\n",
       "      <td>Bulbasaur is a potent sweeper in the LC metaga...</td>\n",
       "    </tr>\n",
       "    <tr>\n",
       "      <th>1</th>\n",
       "      <td>Ivysaur</td>\n",
       "      <td>No movesets available. Perhaps you could help ...</td>\n",
       "    </tr>\n",
       "    <tr>\n",
       "      <th>2</th>\n",
       "      <td>Venusaur</td>\n",
       "      <td>Venusaur is an excellent choice for sun teams,...</td>\n",
       "    </tr>\n",
       "    <tr>\n",
       "      <th>3</th>\n",
       "      <td>Mega Venusaur</td>\n",
       "      <td>Venusaur is an excellent choice for sun teams,...</td>\n",
       "    </tr>\n",
       "    <tr>\n",
       "      <th>4</th>\n",
       "      <td>Charmander</td>\n",
       "      <td>Charmander might look like a good Pokemon to u...</td>\n",
       "    </tr>\n",
       "  </tbody>\n",
       "</table>\n",
       "</div>"
      ],
      "text/plain": [
       "         Pokemon                                 Smogon_Description\n",
       "0      Bulbasaur  Bulbasaur is a potent sweeper in the LC metaga...\n",
       "1        Ivysaur  No movesets available. Perhaps you could help ...\n",
       "2       Venusaur  Venusaur is an excellent choice for sun teams,...\n",
       "3  Mega Venusaur  Venusaur is an excellent choice for sun teams,...\n",
       "4     Charmander  Charmander might look like a good Pokemon to u..."
      ]
     },
     "execution_count": 59,
     "metadata": {},
     "output_type": "execute_result"
    }
   ],
   "source": [
    "%store -r smog_df\n",
    "smog_df.head()"
   ]
  },
  {
   "cell_type": "code",
   "execution_count": 81,
   "id": "0bd371b8-7bdf-47e2-944a-1a40ca6e6215",
   "metadata": {},
   "outputs": [],
   "source": [
    "#checking for all invalid/missing entries that are not empty string\n",
    "invalid_entries = list(smog_df[smog_df['Smogon_Description'].str.contains(\"No movesets available\")][\"Pokemon\"])"
   ]
  },
  {
   "cell_type": "code",
   "execution_count": null,
   "id": "c1b23772-5bd7-4735-b560-dfac755bcf6f",
   "metadata": {},
   "outputs": [],
   "source": [
    "invalid_entries"
   ]
  },
  {
   "cell_type": "code",
   "execution_count": 83,
   "id": "b06978ef-3de5-48a6-b9a0-8a61e7699092",
   "metadata": {},
   "outputs": [
    {
     "data": {
      "text/plain": [
       "139"
      ]
     },
     "execution_count": 83,
     "metadata": {},
     "output_type": "execute_result"
    }
   ],
   "source": [
    "len(invalid_entries)"
   ]
  },
  {
   "cell_type": "code",
   "execution_count": 84,
   "id": "469d9a6b-d535-41cf-b386-b73c505c3fe7",
   "metadata": {},
   "outputs": [],
   "source": [
    "invalid_ent_dict = {}"
   ]
  },
  {
   "cell_type": "code",
   "execution_count": 85,
   "id": "646e706a-691e-434a-bb5c-98fb9db55bcb",
   "metadata": {},
   "outputs": [],
   "source": [
    "#reformatting smogon links, changing pokedex to SS \n",
    "for ind, elem in enumerate(invalid_entries):\n",
    "    key = elem\n",
    "    if \" \" in invalid_entries[ind]:\n",
    "        invalid_entries[ind] = elem.replace(\" \", \"-\")\n",
    "    if \"Alolan\" in invalid_entries[ind] or \"Galarian\" in invalid_entries[ind]:\n",
    "        if \"Alolan\" in invalid_entries[ind]:\n",
    "            invalid_entries[ind] = elem[elem.index(\" \")+1:] + \"-\" + elem[:elem.index(\" \")-1]\n",
    "        elif \"Galarian\" in invalid_entries[ind]:\n",
    "            invalid_entries[ind] = elem[elem.index(\" \")+1:] + \"-\" + elem[:elem.index(\" \")-3]\n",
    "    if \".\" in invalid_entries[ind]:\n",
    "        invalid_entries[ind] = elem.replace(\".\", \"\")\n",
    "    if \"'\" in invalid_entries[ind]:\n",
    "        invalid_entries[ind] = elem.replace(\"'\", \"\")\n",
    "    if \"♀\" in invalid_entries[ind]:\n",
    "        invalid_entries[ind] = elem.replace(\"♀\", \"-f\")\n",
    "    if \"♂\" in invalid_entries[ind]:\n",
    "        invalid_entries[ind] = elem.replace(\"♂\", \"-m\")\n",
    "\n",
    "    invalid_ent_dict[key] = 'https://www.smogon.com/dex/ss/pokemon/' + invalid_entries[ind] + \"/\""
   ]
  },
  {
   "cell_type": "code",
   "execution_count": null,
   "id": "6aa5d7a7-dd76-4c10-8489-3cd588eb738a",
   "metadata": {},
   "outputs": [],
   "source": [
    "for i, (key, value) in enumerate(invalid_ent_dict.items()):\n",
    "    target_url = value\n",
    "    \n",
    "    print(i, key, value)\n",
    "    \n",
    "    options= Options()\n",
    "    options.add_argument(\"-headless\")\n",
    "    driver = webdriver.Firefox(options=options)\n",
    "    driver.execute_script(f\"location.href='{target_url}';\")\n",
    "    time.sleep(5)\n",
    "    \n",
    "    resp = driver.page_source\n",
    "    soup = BeautifulSoup(resp) \n",
    "    driver.close()\n",
    "    \n",
    "    poke_text = soup.find(\"section\", {\"data-reactid\": \".0.1.1.2.6\"})\n",
    "    text = \"\"\n",
    "    try:\n",
    "        paragraphs = poke_text.find_all(\"p\")    \n",
    "        \n",
    "        for para in paragraphs:\n",
    "            text+=para.get_text() + \"\\n\"\n",
    "    except:\n",
    "        print(\"No text available\")\n",
    "\n",
    "    smog_df.loc[smog_df['Pokemon'] == key, \"Smogon_Description\"] = text"
   ]
  },
  {
   "cell_type": "code",
   "execution_count": 87,
   "id": "9f61ca4a-5ff2-4515-92fd-fddddd1865ef",
   "metadata": {},
   "outputs": [],
   "source": [
    "invalid_entries = list(smog_df[smog_df['Smogon_Description'].str.contains(\"No movesets available\")][\"Pokemon\"])"
   ]
  },
  {
   "cell_type": "code",
   "execution_count": null,
   "id": "34c04918-5892-4097-ba78-434e2b6b7ab7",
   "metadata": {},
   "outputs": [],
   "source": [
    "invalid_entries"
   ]
  },
  {
   "cell_type": "code",
   "execution_count": 89,
   "id": "eb2f7c8f-aba0-4135-bf68-ca2965c87092",
   "metadata": {},
   "outputs": [
    {
     "data": {
      "text/plain": [
       "120"
      ]
     },
     "execution_count": 89,
     "metadata": {},
     "output_type": "execute_result"
    }
   ],
   "source": [
    "len(invalid_entries)"
   ]
  },
  {
   "cell_type": "code",
   "execution_count": 94,
   "id": "64c1a705-f6c1-4383-89f6-2ff754b3a5cc",
   "metadata": {},
   "outputs": [],
   "source": [
    "invalid_ent_dict = {}"
   ]
  },
  {
   "cell_type": "code",
   "execution_count": 95,
   "id": "05f700ca-3a3b-4eb6-a295-60c67fb80638",
   "metadata": {},
   "outputs": [],
   "source": [
    "#repeating, except trying XY pokedex\n",
    "for ind, elem in enumerate(invalid_entries):\n",
    "    key = elem\n",
    "    if \" \" in invalid_entries[ind]:\n",
    "        invalid_entries[ind] = elem.replace(\" \", \"-\")\n",
    "    if \"Alolan\" in invalid_entries[ind] or \"Galarian\" in invalid_entries[ind]:\n",
    "        if \"Alolan\" in invalid_entries[ind]:\n",
    "            invalid_entries[ind] = elem[elem.index(\" \")+1:] + \"-\" + elem[:elem.index(\" \")-1]\n",
    "        elif \"Galarian\" in invalid_entries[ind]:\n",
    "            invalid_entries[ind] = elem[elem.index(\" \")+1:] + \"-\" + elem[:elem.index(\" \")-3]\n",
    "    if \".\" in invalid_entries[ind]:\n",
    "        invalid_entries[ind] = elem.replace(\".\", \"\")\n",
    "    if \"'\" in invalid_entries[ind]:\n",
    "        invalid_entries[ind] = elem.replace(\"'\", \"\")\n",
    "    if \"♀\" in invalid_entries[ind]:\n",
    "        invalid_entries[ind] = elem.replace(\"♀\", \"-f\")\n",
    "    if \"♂\" in invalid_entries[ind]:\n",
    "        invalid_entries[ind] = elem.replace(\"♂\", \"-m\")\n",
    "\n",
    "    invalid_ent_dict[key] = 'https://www.smogon.com/dex/xy/pokemon/' + invalid_entries[ind] + \"/\""
   ]
  },
  {
   "cell_type": "code",
   "execution_count": null,
   "id": "c20160b9-c6f1-453f-b3d4-d56f404a4a5b",
   "metadata": {},
   "outputs": [],
   "source": [
    "invalid_ent_dict"
   ]
  },
  {
   "cell_type": "code",
   "execution_count": null,
   "id": "abaff279-235b-48ef-bfc0-3bcc0910ff9e",
   "metadata": {},
   "outputs": [],
   "source": [
    "for i, (key, value) in enumerate(invalid_ent_dict.items()):\n",
    "    target_url = value\n",
    "    \n",
    "    print(i, key, value)\n",
    "    \n",
    "    options= Options()\n",
    "    options.add_argument(\"-headless\")\n",
    "    driver = webdriver.Firefox(options=options)\n",
    "    driver.execute_script(f\"location.href='{target_url}';\")\n",
    "    time.sleep(5)\n",
    "    \n",
    "    resp = driver.page_source\n",
    "    soup = BeautifulSoup(resp) \n",
    "    driver.close()\n",
    "    \n",
    "    poke_text = soup.find(\"section\", {\"data-reactid\": \".0.1.1.2.6\"})\n",
    "    text = \"\"\n",
    "    try:\n",
    "        paragraphs = poke_text.find_all(\"p\")    \n",
    "        \n",
    "        for para in paragraphs:\n",
    "            text+=para.get_text() + \"\\n\"\n",
    "    except:\n",
    "        print(\"No text available\")\n",
    "\n",
    "    smog_df.loc[smog_df['Pokemon'] == key, \"Smogon_Description\"] = text"
   ]
  },
  {
   "cell_type": "code",
   "execution_count": 119,
   "id": "d74d674c-4ae0-4bf0-9137-8ce2cf78050a",
   "metadata": {},
   "outputs": [],
   "source": [
    "#entries that have movesets that are not being filled in\n",
    "exist = [\"Pikachu\", \"Seadra\", \"Magmar\", \"Porygon\", \"Vulpix\", \"Croconaw\", \"Spinark\", \"Togetic\",\n",
    "        \"Marill\", \"Aipom\", \"Murkrow\", \"Marshtomp\", \"Wingull\", \"Surskit\", \"Electabuzz\", \"Gulpin\", \"Swablu\", \"Shelgon\",\n",
    "        \"Prinplup\", \"Drifloon\", \"Happiny\", \"Sewaddle\", \"Whirlipede\", \"Gothita\", \"Quilladin\", \"Frogadier\", \"Sliggoo\"]"
   ]
  },
  {
   "cell_type": "code",
   "execution_count": 117,
   "id": "3e49c99c-92f3-4a47-8538-48e981d3421e",
   "metadata": {},
   "outputs": [],
   "source": [
    "invalid_entries = list(smog_df[smog_df['Smogon_Description'].str.contains(\"No movesets available\")][\"Pokemon\"])"
   ]
  },
  {
   "cell_type": "code",
   "execution_count": null,
   "id": "e88f6156-ee7e-4456-8672-c1678da4eab8",
   "metadata": {},
   "outputs": [],
   "source": [
    "invalid_entries"
   ]
  },
  {
   "cell_type": "code",
   "execution_count": null,
   "id": "db8f5a7f-899e-44ab-b7a6-0d7c0f8fd217",
   "metadata": {},
   "outputs": [],
   "source": [
    "missing_entries = list(smog_df[smog_df.eq(\"\").any(axis=1)][\"Pokemon\"])\n",
    "missing_entries"
   ]
  },
  {
   "cell_type": "code",
   "execution_count": 124,
   "id": "9c75138d-0e8d-4bff-a389-b93c26b7dc02",
   "metadata": {},
   "outputs": [],
   "source": [
    "all_missing_entries = invalid_entries + missing_entries"
   ]
  },
  {
   "cell_type": "code",
   "execution_count": 121,
   "id": "bf9cc782-6ea3-4ff0-9c83-1aff036cf80c",
   "metadata": {},
   "outputs": [
    {
     "data": {
      "text/plain": [
       "104"
      ]
     },
     "execution_count": 121,
     "metadata": {},
     "output_type": "execute_result"
    }
   ],
   "source": [
    "len(all_missing_entries)"
   ]
  },
  {
   "cell_type": "code",
   "execution_count": 125,
   "id": "b88f6ee7-3d1b-49dd-8310-65240eb6511e",
   "metadata": {},
   "outputs": [],
   "source": [
    "#get pokemon entries from smogon that exist (some pokemon have no battle strategies on smogon regardless of pokedex)\n",
    "res_all_miss = list(set(all_missing_entries).intersection(exist))"
   ]
  },
  {
   "cell_type": "code",
   "execution_count": 126,
   "id": "93352b5c-2422-4976-8916-5da27b572901",
   "metadata": {},
   "outputs": [
    {
     "data": {
      "text/plain": [
       "5"
      ]
     },
     "execution_count": 126,
     "metadata": {},
     "output_type": "execute_result"
    }
   ],
   "source": [
    "len(res_all_miss)"
   ]
  },
  {
   "cell_type": "code",
   "execution_count": 127,
   "id": "cb7cb05d-cf97-4f65-b166-409e932cf03e",
   "metadata": {},
   "outputs": [
    {
     "name": "stdout",
     "output_type": "stream",
     "text": [
      "['Happiny', 'Gulpin', 'Partner Pikachu', 'Drifloon', 'Pikachu']\n"
     ]
    }
   ],
   "source": [
    "print(res_all_miss)"
   ]
  },
  {
   "cell_type": "code",
   "execution_count": 128,
   "id": "414c3c47-37f4-40e1-88aa-346aad04aa3b",
   "metadata": {},
   "outputs": [],
   "source": [
    "miss_entr = {'Happiny': \"https://www.smogon.com/dex/bw/pokemon/happiny/\",\n",
    "             'Gulpin': \"https://www.smogon.com/dex/bw/pokemon/gulpin/\",\n",
    "             'Drifloon': \"https://www.smogon.com/dex/sv/pokemon/drifloon/\",\n",
    "             'Pikachu': \"https://www.smogon.com/dex/sv/pokemon/pikachu/\"}"
   ]
  },
  {
   "cell_type": "code",
   "execution_count": null,
   "id": "65e041aa-8229-4fbc-9f6c-56e735692cdb",
   "metadata": {},
   "outputs": [],
   "source": [
    "for i, (key, value) in enumerate(miss_entr.items()):\n",
    "    target_url = value\n",
    "    \n",
    "    print(i, key, value)\n",
    "    \n",
    "    options= Options()\n",
    "    options.add_argument(\"-headless\")\n",
    "    driver = webdriver.Firefox(options=options)\n",
    "    driver.execute_script(f\"location.href='{target_url}';\")\n",
    "    time.sleep(5)\n",
    "    \n",
    "    resp = driver.page_source\n",
    "    soup = BeautifulSoup(resp) \n",
    "    driver.close()\n",
    "    \n",
    "    poke_text = soup.find(\"section\", {\"data-reactid\": \".0.1.1.2.6\"})\n",
    "    text = \"\"\n",
    "    try:\n",
    "        paragraphs = poke_text.find_all(\"p\")    \n",
    "        \n",
    "        for para in paragraphs:\n",
    "            text+=para.get_text() + \"\\n\"\n",
    "    except:\n",
    "        print(\"No text available\")\n",
    "\n",
    "    smog_df.loc[smog_df['Pokemon'] == key, \"Smogon_Description\"] = text"
   ]
  },
  {
   "cell_type": "code",
   "execution_count": 131,
   "id": "d8294527-1383-47f6-a692-621eb0db3130",
   "metadata": {},
   "outputs": [
    {
     "name": "stdout",
     "output_type": "stream",
     "text": [
      "Stored 'smog_df' (DataFrame)\n"
     ]
    }
   ],
   "source": [
    "%store smog_df"
   ]
  },
  {
   "cell_type": "code",
   "execution_count": 133,
   "id": "ca0155fb-cebd-4687-bd6c-8c70bda37d8a",
   "metadata": {},
   "outputs": [
    {
     "data": {
      "text/html": [
       "<div>\n",
       "<style scoped>\n",
       "    .dataframe tbody tr th:only-of-type {\n",
       "        vertical-align: middle;\n",
       "    }\n",
       "\n",
       "    .dataframe tbody tr th {\n",
       "        vertical-align: top;\n",
       "    }\n",
       "\n",
       "    .dataframe thead th {\n",
       "        text-align: right;\n",
       "    }\n",
       "</style>\n",
       "<table border=\"1\" class=\"dataframe\">\n",
       "  <thead>\n",
       "    <tr style=\"text-align: right;\">\n",
       "      <th></th>\n",
       "      <th>Pokemon</th>\n",
       "      <th>Smogon_Description</th>\n",
       "    </tr>\n",
       "  </thead>\n",
       "  <tbody>\n",
       "    <tr>\n",
       "      <th>0</th>\n",
       "      <td>Bulbasaur</td>\n",
       "      <td>Bulbasaur is a potent sweeper in the LC metaga...</td>\n",
       "    </tr>\n",
       "    <tr>\n",
       "      <th>1</th>\n",
       "      <td>Ivysaur</td>\n",
       "      <td>The combination of Growth and Chlorophyll enab...</td>\n",
       "    </tr>\n",
       "    <tr>\n",
       "      <th>2</th>\n",
       "      <td>Venusaur</td>\n",
       "      <td>Venusaur is an excellent choice for sun teams,...</td>\n",
       "    </tr>\n",
       "    <tr>\n",
       "      <th>3</th>\n",
       "      <td>Mega Venusaur</td>\n",
       "      <td>Venusaur is an excellent choice for sun teams,...</td>\n",
       "    </tr>\n",
       "    <tr>\n",
       "      <th>4</th>\n",
       "      <td>Charmander</td>\n",
       "      <td>Charmander might look like a good Pokemon to u...</td>\n",
       "    </tr>\n",
       "    <tr>\n",
       "      <th>...</th>\n",
       "      <td>...</td>\n",
       "      <td>...</td>\n",
       "    </tr>\n",
       "    <tr>\n",
       "      <th>1040</th>\n",
       "      <td>Glastrier</td>\n",
       "      <td>240 Speed EVs outspeeds Corviknight.\\nThis is ...</td>\n",
       "    </tr>\n",
       "    <tr>\n",
       "      <th>1041</th>\n",
       "      <td>Spectrier</td>\n",
       "      <td>Spectrier is almost completely outclassed by C...</td>\n",
       "    </tr>\n",
       "    <tr>\n",
       "      <th>1042</th>\n",
       "      <td>Calyrex</td>\n",
       "      <td>Don't use Calyrex.\\n</td>\n",
       "    </tr>\n",
       "    <tr>\n",
       "      <th>1043</th>\n",
       "      <td>Calyrex Ice Rider</td>\n",
       "      <td>Thanks to a sky-high Attack stat coupled with ...</td>\n",
       "    </tr>\n",
       "    <tr>\n",
       "      <th>1044</th>\n",
       "      <td>Calyrex Shadow Rider</td>\n",
       "      <td>Calyrex-S is the most influential force in the...</td>\n",
       "    </tr>\n",
       "  </tbody>\n",
       "</table>\n",
       "<p>1045 rows × 2 columns</p>\n",
       "</div>"
      ],
      "text/plain": [
       "                   Pokemon                                 Smogon_Description\n",
       "0                Bulbasaur  Bulbasaur is a potent sweeper in the LC metaga...\n",
       "1                  Ivysaur  The combination of Growth and Chlorophyll enab...\n",
       "2                 Venusaur  Venusaur is an excellent choice for sun teams,...\n",
       "3            Mega Venusaur  Venusaur is an excellent choice for sun teams,...\n",
       "4               Charmander  Charmander might look like a good Pokemon to u...\n",
       "...                    ...                                                ...\n",
       "1040             Glastrier  240 Speed EVs outspeeds Corviknight.\\nThis is ...\n",
       "1041             Spectrier  Spectrier is almost completely outclassed by C...\n",
       "1042               Calyrex                               Don't use Calyrex.\\n\n",
       "1043     Calyrex Ice Rider  Thanks to a sky-high Attack stat coupled with ...\n",
       "1044  Calyrex Shadow Rider  Calyrex-S is the most influential force in the...\n",
       "\n",
       "[1045 rows x 2 columns]"
      ]
     },
     "execution_count": 133,
     "metadata": {},
     "output_type": "execute_result"
    }
   ],
   "source": [
    "#replace invalid/missing entries with NaN\n",
    "smog_df.loc[smog_df['Smogon_Description'].str.contains('No movesets available'), 'Smogon_Description'] = np.nan\n",
    "smog_df.replace('-', np.nan)"
   ]
  },
  {
   "cell_type": "code",
   "execution_count": 136,
   "id": "4d61938f-2c13-4f29-94c3-4ffb36e9397a",
   "metadata": {},
   "outputs": [
    {
     "name": "stdout",
     "output_type": "stream",
     "text": [
      "Stored 'smog_df' (DataFrame)\n"
     ]
    }
   ],
   "source": [
    "%store smog_df"
   ]
  },
  {
   "cell_type": "code",
   "execution_count": null,
   "id": "8c84a1b4-98d6-4b24-9be3-376bf1eec7f3",
   "metadata": {},
   "outputs": [],
   "source": []
  }
 ],
 "metadata": {
  "kernelspec": {
   "display_name": "Python 3 (ipykernel)",
   "language": "python",
   "name": "python3"
  },
  "language_info": {
   "codemirror_mode": {
    "name": "ipython",
    "version": 3
   },
   "file_extension": ".py",
   "mimetype": "text/x-python",
   "name": "python",
   "nbconvert_exporter": "python",
   "pygments_lexer": "ipython3",
   "version": "3.11.4"
  }
 },
 "nbformat": 4,
 "nbformat_minor": 5
}
