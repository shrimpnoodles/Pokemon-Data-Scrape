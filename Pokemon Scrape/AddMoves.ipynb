{
 "cells": [
  {
   "cell_type": "code",
   "execution_count": null,
   "id": "b6923bb6-30f8-4e1f-b937-632e0b274650",
   "metadata": {},
   "outputs": [],
   "source": [
    "import pandas as pd\n",
    "from bs4 import BeautifulSoup\n",
    "from selenium import webdriver\n",
    "from selenium.webdriver.firefox.options import Options\n",
    "from selenium.webdriver.common.by import By"
   ]
  },
  {
   "cell_type": "code",
   "execution_count": null,
   "id": "b1e0dcd1-549c-4a93-aa7a-55cf749d5f5e",
   "metadata": {},
   "outputs": [],
   "source": [
    "%store -r df"
   ]
  },
  {
   "cell_type": "code",
   "execution_count": null,
   "id": "0826b8f3-6dd2-4374-97ad-ba2cb605f47a",
   "metadata": {},
   "outputs": [],
   "source": [
    "for i in range(len(df)):\n",
    "    poke_link[df.iat[i,2]]=('https://www.smogon.com/dex/sm/pokemon/'+df.iat[i, 2]+'/')"
   ]
  },
  {
   "cell_type": "code",
   "execution_count": null,
   "id": "944ef9f1-32b3-4d14-b62a-2d5144cf5b10",
   "metadata": {},
   "outputs": [],
   "source": [
    "moves = {}   #{pokemon: {x: {moves...: {type, damage, power, accuracy, pp, description}}}}\n",
    "             #ex: {bulbasaur: {amnesia:{type:{psychic}, damage:{non damaging}, power:{--}, \n",
    "             #accuracy:{--}, pp:{20}, description:{...}}, attract:{}, bide:{}, ...}}"
   ]
  },
  {
   "cell_type": "code",
   "execution_count": null,
   "id": "612af15a-839e-4913-a0a5-e735f79905ac",
   "metadata": {},
   "outputs": [],
   "source": []
  }
 ],
 "metadata": {
  "kernelspec": {
   "display_name": "Python 3 (ipykernel)",
   "language": "python",
   "name": "python3"
  },
  "language_info": {
   "codemirror_mode": {
    "name": "ipython",
    "version": 3
   },
   "file_extension": ".py",
   "mimetype": "text/x-python",
   "name": "python",
   "nbconvert_exporter": "python",
   "pygments_lexer": "ipython3",
   "version": "3.11.4"
  }
 },
 "nbformat": 4,
 "nbformat_minor": 5
}
