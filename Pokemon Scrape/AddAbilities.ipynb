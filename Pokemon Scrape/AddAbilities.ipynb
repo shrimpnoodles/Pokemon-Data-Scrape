{
 "cells": [
  {
   "cell_type": "code",
   "execution_count": 2,
   "id": "d2cfdd43-58f9-4ee2-8713-b9e9e258f8c7",
   "metadata": {},
   "outputs": [],
   "source": [
    "import pandas as pd\n",
    "from bs4 import BeautifulSoup\n",
    "from selenium import webdriver\n",
    "from selenium.webdriver.firefox.options import Options\n",
    "from selenium.webdriver.common.by import By"
   ]
  },
  {
   "cell_type": "code",
   "execution_count": 3,
   "id": "c9920f41-45a6-4aec-9f20-1a289e2c5307",
   "metadata": {},
   "outputs": [],
   "source": [
    "#webpage with all abilities and description\n",
    "target_url = \"https://bulbapedia.bulbagarden.net/wiki/Ability#:~:text=The%20most%20Abilities%20any%20species,if%20the%20species%20has%20two).\""
   ]
  },
  {
   "cell_type": "code",
   "execution_count": 4,
   "id": "a828095a-815b-42e0-9d17-62b82cf71ba4",
   "metadata": {},
   "outputs": [],
   "source": [
    "#driver\n",
    "options= Options()\n",
    "options.add_argument(\"-headless\")\n",
    "driver = webdriver.Firefox(options=options)"
   ]
  },
  {
   "cell_type": "code",
   "execution_count": 5,
   "id": "ff6ff1a4-c434-456a-b481-de76f4c7637b",
   "metadata": {},
   "outputs": [],
   "source": [
    "driver.execute_script(f\"location.href='{target_url}';\")\n",
    "resp = driver.page_source\n",
    "soup = BeautifulSoup(resp)"
   ]
  },
  {
   "cell_type": "code",
   "execution_count": 6,
   "id": "dd8b7303-0898-43b5-8a21-a94ca1933c9e",
   "metadata": {},
   "outputs": [],
   "source": [
    "#get abilities table\n",
    "container = soup.find(\"table\", {\"class\": \"sortable jquery-tablesorter\"})"
   ]
  },
  {
   "cell_type": "code",
   "execution_count": 7,
   "id": "0c06b423-4070-49b7-b47a-d1f633499252",
   "metadata": {},
   "outputs": [],
   "source": [
    "abilities_html = container.find_all(\"a\")"
   ]
  },
  {
   "cell_type": "code",
   "execution_count": 8,
   "id": "71e0186e-b9c7-415d-bda4-73c1adfc472d",
   "metadata": {},
   "outputs": [],
   "source": [
    "abilities_desc_html = container.find_all(\"td\", {\"class\": \"l\"})"
   ]
  },
  {
   "cell_type": "code",
   "execution_count": 9,
   "id": "d7b41051-444b-4132-ac9c-71540e18d8c6",
   "metadata": {},
   "outputs": [],
   "source": [
    "ability_name = []\n",
    "ability_desc = []"
   ]
  },
  {
   "cell_type": "code",
   "execution_count": 10,
   "id": "f2da3fbb-db7f-4384-ad50-58195eb26c90",
   "metadata": {},
   "outputs": [],
   "source": [
    "for ability in abilities_html:\n",
    "    ability_name.append(ability.get_text())"
   ]
  },
  {
   "cell_type": "code",
   "execution_count": 11,
   "id": "a7a0f8e2-9bba-4a73-ab23-c2acb68d8f88",
   "metadata": {},
   "outputs": [],
   "source": [
    "for ability in abilities_desc_html:\n",
    "    text = ability.get_text()\n",
    "    ability_desc.append(text.replace(\"\\n\", \"\"))"
   ]
  },
  {
   "cell_type": "code",
   "execution_count": 12,
   "id": "2829fa7f-f232-46b2-90fc-666cda5e8c12",
   "metadata": {},
   "outputs": [],
   "source": [
    "#extract abilities and description and zip them together\n",
    "abilities = dict(zip(ability_name, ability_desc))"
   ]
  },
  {
   "cell_type": "code",
   "execution_count": 13,
   "id": "2a37707e-b117-4bcb-9f4a-e58b2d06f00d",
   "metadata": {},
   "outputs": [],
   "source": [
    "abil_df = pd.DataFrame(abilities.items())"
   ]
  },
  {
   "cell_type": "code",
   "execution_count": 14,
   "id": "1f17f419-90b6-4918-a2c9-776f0d759b2b",
   "metadata": {},
   "outputs": [
    {
     "data": {
      "text/html": [
       "<div>\n",
       "<style scoped>\n",
       "    .dataframe tbody tr th:only-of-type {\n",
       "        vertical-align: middle;\n",
       "    }\n",
       "\n",
       "    .dataframe tbody tr th {\n",
       "        vertical-align: top;\n",
       "    }\n",
       "\n",
       "    .dataframe thead th {\n",
       "        text-align: right;\n",
       "    }\n",
       "</style>\n",
       "<table border=\"1\" class=\"dataframe\">\n",
       "  <thead>\n",
       "    <tr style=\"text-align: right;\">\n",
       "      <th></th>\n",
       "      <th>0</th>\n",
       "      <th>1</th>\n",
       "    </tr>\n",
       "  </thead>\n",
       "  <tbody>\n",
       "    <tr>\n",
       "      <th>0</th>\n",
       "      <td>Stench</td>\n",
       "      <td>By releasing a stench when attacking, the Poké...</td>\n",
       "    </tr>\n",
       "    <tr>\n",
       "      <th>1</th>\n",
       "      <td>Drizzle</td>\n",
       "      <td>The Pokémon makes it rain when it enters a bat...</td>\n",
       "    </tr>\n",
       "    <tr>\n",
       "      <th>2</th>\n",
       "      <td>Speed Boost</td>\n",
       "      <td>The Pokémon's Speed stat is boosted every turn.</td>\n",
       "    </tr>\n",
       "    <tr>\n",
       "      <th>3</th>\n",
       "      <td>Battle Armor</td>\n",
       "      <td>Hard armor protects the Pokémon from critical ...</td>\n",
       "    </tr>\n",
       "    <tr>\n",
       "      <th>4</th>\n",
       "      <td>Sturdy</td>\n",
       "      <td>The Pokémon cannot be knocked out by a single ...</td>\n",
       "    </tr>\n",
       "  </tbody>\n",
       "</table>\n",
       "</div>"
      ],
      "text/plain": [
       "              0                                                  1\n",
       "0        Stench  By releasing a stench when attacking, the Poké...\n",
       "1       Drizzle  The Pokémon makes it rain when it enters a bat...\n",
       "2   Speed Boost    The Pokémon's Speed stat is boosted every turn.\n",
       "3  Battle Armor  Hard armor protects the Pokémon from critical ...\n",
       "4        Sturdy  The Pokémon cannot be knocked out by a single ..."
      ]
     },
     "execution_count": 14,
     "metadata": {},
     "output_type": "execute_result"
    }
   ],
   "source": [
    "abil_df.head()"
   ]
  },
  {
   "cell_type": "code",
   "execution_count": 15,
   "id": "5a53efed-6ba0-4633-9ad4-0810cd7c1cb5",
   "metadata": {},
   "outputs": [],
   "source": [
    "#renaming columns\n",
    "abil_df.columns=[\"Ability\", \"Description\"]"
   ]
  },
  {
   "cell_type": "code",
   "execution_count": 16,
   "id": "8e566e1b-b015-4324-acea-34cfc54275d1",
   "metadata": {},
   "outputs": [
    {
     "data": {
      "text/html": [
       "<div>\n",
       "<style scoped>\n",
       "    .dataframe tbody tr th:only-of-type {\n",
       "        vertical-align: middle;\n",
       "    }\n",
       "\n",
       "    .dataframe tbody tr th {\n",
       "        vertical-align: top;\n",
       "    }\n",
       "\n",
       "    .dataframe thead th {\n",
       "        text-align: right;\n",
       "    }\n",
       "</style>\n",
       "<table border=\"1\" class=\"dataframe\">\n",
       "  <thead>\n",
       "    <tr style=\"text-align: right;\">\n",
       "      <th></th>\n",
       "      <th>Ability</th>\n",
       "      <th>Description</th>\n",
       "    </tr>\n",
       "  </thead>\n",
       "  <tbody>\n",
       "    <tr>\n",
       "      <th>0</th>\n",
       "      <td>Stench</td>\n",
       "      <td>By releasing a stench when attacking, the Poké...</td>\n",
       "    </tr>\n",
       "    <tr>\n",
       "      <th>1</th>\n",
       "      <td>Drizzle</td>\n",
       "      <td>The Pokémon makes it rain when it enters a bat...</td>\n",
       "    </tr>\n",
       "    <tr>\n",
       "      <th>2</th>\n",
       "      <td>Speed Boost</td>\n",
       "      <td>The Pokémon's Speed stat is boosted every turn.</td>\n",
       "    </tr>\n",
       "    <tr>\n",
       "      <th>3</th>\n",
       "      <td>Battle Armor</td>\n",
       "      <td>Hard armor protects the Pokémon from critical ...</td>\n",
       "    </tr>\n",
       "    <tr>\n",
       "      <th>4</th>\n",
       "      <td>Sturdy</td>\n",
       "      <td>The Pokémon cannot be knocked out by a single ...</td>\n",
       "    </tr>\n",
       "  </tbody>\n",
       "</table>\n",
       "</div>"
      ],
      "text/plain": [
       "        Ability                                        Description\n",
       "0        Stench  By releasing a stench when attacking, the Poké...\n",
       "1       Drizzle  The Pokémon makes it rain when it enters a bat...\n",
       "2   Speed Boost    The Pokémon's Speed stat is boosted every turn.\n",
       "3  Battle Armor  Hard armor protects the Pokémon from critical ...\n",
       "4        Sturdy  The Pokémon cannot be knocked out by a single ..."
      ]
     },
     "execution_count": 16,
     "metadata": {},
     "output_type": "execute_result"
    }
   ],
   "source": [
    "abil_df.head()"
   ]
  },
  {
   "cell_type": "code",
   "execution_count": 17,
   "id": "f895d3ee-ad83-4e9a-9019-4301783d0bd2",
   "metadata": {},
   "outputs": [],
   "source": [
    "abil_df.to_csv('abil_df.csv')"
   ]
  },
  {
   "cell_type": "code",
   "execution_count": 18,
   "id": "d2b58553-6b7c-4566-a2a5-b18d9393faab",
   "metadata": {},
   "outputs": [
    {
     "name": "stdout",
     "output_type": "stream",
     "text": [
      "Stored 'abil_df' (DataFrame)\n"
     ]
    }
   ],
   "source": [
    "%store abil_df"
   ]
  },
  {
   "cell_type": "code",
   "execution_count": null,
   "id": "2cc4f52b-6d2e-4bff-9aa1-feb18d5fdf4f",
   "metadata": {},
   "outputs": [],
   "source": []
  }
 ],
 "metadata": {
  "kernelspec": {
   "display_name": "Python 3 (ipykernel)",
   "language": "python",
   "name": "python3"
  },
  "language_info": {
   "codemirror_mode": {
    "name": "ipython",
    "version": 3
   },
   "file_extension": ".py",
   "mimetype": "text/x-python",
   "name": "python",
   "nbconvert_exporter": "python",
   "pygments_lexer": "ipython3",
   "version": "3.11.4"
  }
 },
 "nbformat": 4,
 "nbformat_minor": 5
}
