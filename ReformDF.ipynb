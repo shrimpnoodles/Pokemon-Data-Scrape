{
 "cells": [
  {
   "cell_type": "code",
   "execution_count": 1,
   "id": "1d1b0f92-262c-47b9-a637-c9c1d99de1f0",
   "metadata": {},
   "outputs": [],
   "source": [
    "import pandas as pd\n",
    "import numpy as np"
   ]
  },
  {
   "cell_type": "code",
   "execution_count": 2,
   "id": "39a61bba-7a03-4126-97bc-49e822497335",
   "metadata": {},
   "outputs": [],
   "source": [
    "%store -r final_df"
   ]
  },
  {
   "cell_type": "code",
   "execution_count": 63,
   "id": "aec44b5a-e2ae-4f22-95bb-486aa95f0272",
   "metadata": {},
   "outputs": [],
   "source": [
    "#pd.options.display.max_colwidth = 100"
   ]
  },
  {
   "cell_type": "code",
   "execution_count": 181,
   "id": "4415f5a7-9317-4520-9d4f-98ccde1d7a57",
   "metadata": {},
   "outputs": [],
   "source": [
    "reform_df = final_df"
   ]
  },
  {
   "cell_type": "code",
   "execution_count": 80,
   "id": "02b7b76a-c170-45e4-84a3-371bc2c00b6d",
   "metadata": {},
   "outputs": [
    {
     "name": "stdout",
     "output_type": "stream",
     "text": [
      "<class 'pandas.core.frame.DataFrame'>\n",
      "RangeIndex: 1045 entries, 0 to 1044\n",
      "Data columns (total 55 columns):\n",
      " #   Column                      Non-Null Count  Dtype  \n",
      "---  ------                      --------------  -----  \n",
      " 0   pokedex_number              1045 non-null   int64  \n",
      " 1   name                        1045 non-null   object \n",
      " 2   japanese_name               1045 non-null   object \n",
      " 3   generation                  1045 non-null   int64  \n",
      " 4   status                      1045 non-null   object \n",
      " 5   species                     1045 non-null   object \n",
      " 6   type_number                 1045 non-null   int64  \n",
      " 7   type_1                      1045 non-null   object \n",
      " 8   type_2                      553 non-null    object \n",
      " 9   height_m                    1045 non-null   float64\n",
      " 10  weight_kg                   1044 non-null   float64\n",
      " 11  abilities_number            1045 non-null   int64  \n",
      " 12  total_points                1045 non-null   int64  \n",
      " 13  hp                          1045 non-null   int64  \n",
      " 14  attack                      1045 non-null   int64  \n",
      " 15  defense                     1045 non-null   int64  \n",
      " 16  sp_attack                   1045 non-null   int64  \n",
      " 17  sp_defense                  1045 non-null   int64  \n",
      " 18  speed                       1045 non-null   int64  \n",
      " 19  catch_rate                  1027 non-null   float64\n",
      " 20  base_friendship             930 non-null    float64\n",
      " 21  base_experience             925 non-null    float64\n",
      " 22  growth_rate                 1044 non-null   object \n",
      " 23  egg_type_number             1045 non-null   int64  \n",
      " 24  egg_type_1                  1042 non-null   object \n",
      " 25  egg_type_2                  285 non-null    object \n",
      " 26  percentage_male             872 non-null    float64\n",
      " 27  egg_cycles                  1044 non-null   float64\n",
      " 28  against_normal              1045 non-null   float64\n",
      " 29  against_fire                1045 non-null   float64\n",
      " 30  against_water               1045 non-null   float64\n",
      " 31  against_electric            1045 non-null   float64\n",
      " 32  against_grass               1045 non-null   float64\n",
      " 33  against_ice                 1045 non-null   float64\n",
      " 34  against_fight               1045 non-null   float64\n",
      " 35  against_poison              1045 non-null   float64\n",
      " 36  against_ground              1045 non-null   float64\n",
      " 37  against_flying              1045 non-null   float64\n",
      " 38  against_psychic             1045 non-null   float64\n",
      " 39  against_bug                 1045 non-null   float64\n",
      " 40  against_rock                1045 non-null   float64\n",
      " 41  against_ghost               1045 non-null   float64\n",
      " 42  against_dragon              1045 non-null   float64\n",
      " 43  against_dark                1045 non-null   float64\n",
      " 44  against_steel               1045 non-null   float64\n",
      " 45  against_fairy               1045 non-null   float64\n",
      " 46  smogon_description          992 non-null    object \n",
      " 47  bulba_description           1045 non-null   object \n",
      " 48  moves                       1045 non-null   object \n",
      " 49  ability_1                   1044 non-null   object \n",
      " 50  ability_2                   939 non-null    object \n",
      " 51  ability_hidden              652 non-null    object \n",
      " 52  ability_1_description       1044 non-null   object \n",
      " 53  ability_2_description       939 non-null    object \n",
      " 54  ability_hidden_description  652 non-null    object \n",
      "dtypes: float64(25), int64(12), object(18)\n",
      "memory usage: 449.2+ KB\n"
     ]
    }
   ],
   "source": [
    "reform_df.info()"
   ]
  },
  {
   "cell_type": "code",
   "execution_count": 183,
   "id": "e2b51db6-9d5a-46e9-bb3c-08c0aefe0693",
   "metadata": {},
   "outputs": [],
   "source": [
    "corpus_df = pd.DataFrame()"
   ]
  },
  {
   "cell_type": "code",
   "execution_count": 184,
   "id": "bf937ece-9674-4677-bbcc-1037512ef562",
   "metadata": {},
   "outputs": [],
   "source": [
    "#convert all columns for each row of pokemon to one large text corpus\n",
    "corpus_df['pokemon_info'] = reform_df.apply(lambda x: f\" {x['bulba_description']}. {x['name']}'s pokedex number is {x['pokedex_number']}. The Japanese name for {x['name']} is {x['japanese_name']}. {x['name']} is a {x['status']} pokemon from generation {x['generation']} with {x['type_number']} type(s): {x['type_1']}, {x['type_2']}. {x['name']} is a {x['species']} pokemon with the height of {x['height_m']} meters and weight of {x['weight_kg']} kilograms. It has {x['abilities_number']} abilities: {x['ability_1']} and {x['ability_2']}. {x['ability_1']}'s description is: {x['ability_1_description']}. {x['ability_2']}'s description is: {x['ability_2_description']}. {x['name']}'s hidden ability is: {x['ability_hidden']} and it's description is: {x['ability_hidden_description']}. The total base points of {x['name']} is {x['total_points']}; with hp being {x['hp']} points, attack {x['attack']} points, defense {x['defense']} points, special attack {x['sp_attack']} points, special defense {x['sp_defense']} points, and speed {x['speed']} points. The catch rate for {x['name']} is {x['catch_rate']}. It's base frienship and base experience is {x['base_friendship']} and {x['base_experience']}. And it's growth rate is {x['growth_rate']}. {x['name']} has {x['egg_type_number']} egg type(s): {x['egg_type_1']} and {x['egg_type_2']}. It's male percentage rate is {x['percentage_male']}%, and it's number of egg cycles (255-257 steps) is {x['egg_cycles']}. Normal types damages {x['against_normal']}x against {x['name']}. Fire types damages {x['against_fire']}x against {x['name']}. Water types damages {x['against_water']}x against {x['name']}. Electric types damages {x['against_electric']}x against {x['name']}. Grass types damages {x['against_grass']}x against {x['name']}. Ice types damages {x['against_ice']}x against {x['name']}. Fighting types damages {x['against_fight']}x against {x['name']}. Poison types damages {x['against_poison']}x against {x['name']}. Ground types damages {x['against_ground']}x against {x['name']}. Flying types damages {x['against_flying']}x against {x['name']}. Psychic types damages {x['against_psychic']}x against {x['name']}. Bug types damages {x['against_bug']}x against {x['name']}. Rock types damages {x.against_rock}x against {x['name']}. Ghost types damages {x['against_ghost']}x against {x['name']}. Dragon types damages {x['against_dragon']}x against {x['name']}. Dark types damages {x['against_dark']}x against {x['name']}. Steel types damages {x['against_steel']}x against {x['name']}. Fairy types damages {x['against_fairy']}x against {x['name']}. The moves {x['name']} can learn are {x['moves']}. {x['smogon_description']}.\", axis = 1)\n",
    "\n",
    "\n",
    "#filler space"
   ]
  },
  {
   "cell_type": "code",
   "execution_count": null,
   "id": "680dd936-eb34-4551-80fb-e918dce72df8",
   "metadata": {},
   "outputs": [],
   "source": [
    "#pd.options.display.max_colwidth = 70000\n",
    "corpus_df.head()"
   ]
  },
  {
   "cell_type": "code",
   "execution_count": 186,
   "id": "9d2b6f6c-1035-4ad1-9b9d-9e6217116d13",
   "metadata": {},
   "outputs": [
    {
     "name": "stdout",
     "output_type": "stream",
     "text": [
      "<class 'pandas.core.frame.DataFrame'>\n",
      "RangeIndex: 1045 entries, 0 to 1044\n",
      "Data columns (total 1 columns):\n",
      " #   Column        Non-Null Count  Dtype \n",
      "---  ------        --------------  ----- \n",
      " 0   pokemon_info  1045 non-null   object\n",
      "dtypes: object(1)\n",
      "memory usage: 8.3+ KB\n"
     ]
    }
   ],
   "source": [
    "corpus_df.info()"
   ]
  },
  {
   "cell_type": "code",
   "execution_count": 187,
   "id": "aec37422-2df2-430c-992a-a178cc98a82c",
   "metadata": {},
   "outputs": [
    {
     "name": "stdout",
     "output_type": "stream",
     "text": [
      "Stored 'corpus_df' (DataFrame)\n"
     ]
    }
   ],
   "source": [
    "%store corpus_df"
   ]
  },
  {
   "cell_type": "code",
   "execution_count": 188,
   "id": "9e65184b-dd3c-4a9a-b610-f2ca2da7cb62",
   "metadata": {},
   "outputs": [],
   "source": [
    "corpus_df.to_csv('corpus_df.csv')"
   ]
  }
 ],
 "metadata": {
  "kernelspec": {
   "display_name": "Python 3 (ipykernel)",
   "language": "python",
   "name": "python3"
  },
  "language_info": {
   "codemirror_mode": {
    "name": "ipython",
    "version": 3
   },
   "file_extension": ".py",
   "mimetype": "text/x-python",
   "name": "python",
   "nbconvert_exporter": "python",
   "pygments_lexer": "ipython3",
   "version": "3.11.4"
  }
 },
 "nbformat": 4,
 "nbformat_minor": 5
}
