{
 "cells": [
  {
   "cell_type": "code",
   "execution_count": 54,
   "id": "b39bc4b9-a75d-41a8-beed-f6a58925a868",
   "metadata": {},
   "outputs": [],
   "source": [
    "import pandas as pd\n",
    "from bs4 import BeautifulSoup\n",
    "from selenium import webdriver\n",
    "from selenium.webdriver.firefox.options import Options\n",
    "from selenium.webdriver.common.by import By\n",
    "import time"
   ]
  },
  {
   "cell_type": "code",
   "execution_count": 28,
   "id": "46250401-4dfd-46e9-9039-a9bfb5f4ef4b",
   "metadata": {},
   "outputs": [],
   "source": [
    "%store -r df"
   ]
  },
  {
   "cell_type": "code",
   "execution_count": 29,
   "id": "34e2de5d-8e96-4527-b4cf-8b27d8ec863a",
   "metadata": {},
   "outputs": [],
   "source": [
    "poke_link = {}"
   ]
  },
  {
   "cell_type": "code",
   "execution_count": 30,
   "id": "7787a7e4-587d-4c59-ba3b-2478aa918f39",
   "metadata": {},
   "outputs": [],
   "source": [
    "#get dictionary of pokemon and its bulbapedia link\n",
    "for i in range(len(df)):\n",
    "    poke_link[df.iat[i,2]]=('https://bulbapedia.bulbagarden.net/wiki/'+df.iat[i, 2]+'_(Pokémon)')"
   ]
  },
  {
   "cell_type": "code",
   "execution_count": 38,
   "id": "6688e854-eaa0-4dc1-a432-a67cf8e90304",
   "metadata": {},
   "outputs": [],
   "source": [
    "poke_text = {}"
   ]
  },
  {
   "cell_type": "code",
   "execution_count": 45,
   "id": "005ca44c-b5b6-4b33-829f-e75d0910ed87",
   "metadata": {},
   "outputs": [],
   "source": [
    "#cutoff = dict(list(poke_link.items())[110:])"
   ]
  },
  {
   "cell_type": "code",
   "execution_count": null,
   "id": "a47dd40c-517c-41b1-8e9a-680ebf99c1cb",
   "metadata": {},
   "outputs": [],
   "source": [
    "#iterate through dictionary to open each pokemon's bulbapedia page\n",
    "for i, (key, value) in enumerate(poke_link.items()):\n",
    "    target_url = value\n",
    "    \n",
    "    print(i, key, value)\n",
    "    \n",
    "    options= Options()\n",
    "    options.add_argument(\"-headless\")\n",
    "    driver = webdriver.Firefox(options=options)\n",
    "\n",
    "    try:\n",
    "        driver.execute_script(f\"location.href='{target_url}';\")\n",
    "        time.sleep(3)\n",
    "        resp = driver.page_source\n",
    "        soup = BeautifulSoup(resp)\n",
    "    except:\n",
    "        print(\"invalid\")\n",
    "    driver.close()\n",
    "\n",
    "    #get first tagline info for each pokemon\n",
    "    start = soup.select_one(\".mw-parser-output > p:nth-child(3)\")\n",
    "    end = soup.find(\"div\", {\"id\":\"toc\"})\n",
    "    \n",
    "    paragraphs = \"\"\n",
    "    current = start\n",
    "    try:\n",
    "        while current.next_sibling != end:\n",
    "            paragraphs+=current.get_text()\n",
    "            current = current.next_sibling\n",
    "    except:\n",
    "        print(\"invalid\")\n",
    "\n",
    "    #save to dictionary\n",
    "    poke_text[key] = paragraphs\n"
   ]
  },
  {
   "cell_type": "code",
   "execution_count": 50,
   "id": "8fbc8cee-be5c-426f-a663-26a24bcc91c5",
   "metadata": {},
   "outputs": [],
   "source": [
    "bulb_df = pd.DataFrame(poke_text.items())"
   ]
  },
  {
   "cell_type": "code",
   "execution_count": 51,
   "id": "fba9fc2d-2260-47dc-ad8d-08b0697bebc3",
   "metadata": {},
   "outputs": [
    {
     "data": {
      "text/html": [
       "<div>\n",
       "<style scoped>\n",
       "    .dataframe tbody tr th:only-of-type {\n",
       "        vertical-align: middle;\n",
       "    }\n",
       "\n",
       "    .dataframe tbody tr th {\n",
       "        vertical-align: top;\n",
       "    }\n",
       "\n",
       "    .dataframe thead th {\n",
       "        text-align: right;\n",
       "    }\n",
       "</style>\n",
       "<table border=\"1\" class=\"dataframe\">\n",
       "  <thead>\n",
       "    <tr style=\"text-align: right;\">\n",
       "      <th></th>\n",
       "      <th>0</th>\n",
       "      <th>1</th>\n",
       "    </tr>\n",
       "  </thead>\n",
       "  <tbody>\n",
       "    <tr>\n",
       "      <th>0</th>\n",
       "      <td>Bulbasaur</td>\n",
       "      <td>Bulbasaur (Japanese: フシギダネ Fushigidane) is a d...</td>\n",
       "    </tr>\n",
       "    <tr>\n",
       "      <th>1</th>\n",
       "      <td>Ivysaur</td>\n",
       "      <td>Ivysaur (Japanese: フシギソウ Fushigisou) is a dual...</td>\n",
       "    </tr>\n",
       "    <tr>\n",
       "      <th>2</th>\n",
       "      <td>Venusaur</td>\n",
       "      <td>Venusaur (Japanese: フシギバナ Fushigibana) is a du...</td>\n",
       "    </tr>\n",
       "    <tr>\n",
       "      <th>3</th>\n",
       "      <td>Mega Venusaur</td>\n",
       "      <td></td>\n",
       "    </tr>\n",
       "    <tr>\n",
       "      <th>4</th>\n",
       "      <td>Charmander</td>\n",
       "      <td>Charmander (Japanese: ヒトカゲ Hitokage) is a Fire...</td>\n",
       "    </tr>\n",
       "  </tbody>\n",
       "</table>\n",
       "</div>"
      ],
      "text/plain": [
       "               0                                                  1\n",
       "0      Bulbasaur  Bulbasaur (Japanese: フシギダネ Fushigidane) is a d...\n",
       "1        Ivysaur  Ivysaur (Japanese: フシギソウ Fushigisou) is a dual...\n",
       "2       Venusaur  Venusaur (Japanese: フシギバナ Fushigibana) is a du...\n",
       "3  Mega Venusaur                                                   \n",
       "4     Charmander  Charmander (Japanese: ヒトカゲ Hitokage) is a Fire..."
      ]
     },
     "execution_count": 51,
     "metadata": {},
     "output_type": "execute_result"
    }
   ],
   "source": [
    "bulb_df.head()"
   ]
  },
  {
   "cell_type": "code",
   "execution_count": 52,
   "id": "61b491d3-4d72-4fc6-8120-359808dfa053",
   "metadata": {},
   "outputs": [],
   "source": [
    "#renaming columns\n",
    "bulb_df.columns=[\"Pokemon\", \"Bulba_Description\"]"
   ]
  },
  {
   "cell_type": "code",
   "execution_count": 53,
   "id": "a1ce4e06-f60c-4c61-b00f-eebf1822ac54",
   "metadata": {},
   "outputs": [
    {
     "data": {
      "text/html": [
       "<div>\n",
       "<style scoped>\n",
       "    .dataframe tbody tr th:only-of-type {\n",
       "        vertical-align: middle;\n",
       "    }\n",
       "\n",
       "    .dataframe tbody tr th {\n",
       "        vertical-align: top;\n",
       "    }\n",
       "\n",
       "    .dataframe thead th {\n",
       "        text-align: right;\n",
       "    }\n",
       "</style>\n",
       "<table border=\"1\" class=\"dataframe\">\n",
       "  <thead>\n",
       "    <tr style=\"text-align: right;\">\n",
       "      <th></th>\n",
       "      <th>Pokemon</th>\n",
       "      <th>Bulba_Description</th>\n",
       "    </tr>\n",
       "  </thead>\n",
       "  <tbody>\n",
       "    <tr>\n",
       "      <th>0</th>\n",
       "      <td>Bulbasaur</td>\n",
       "      <td>Bulbasaur (Japanese: フシギダネ Fushigidane) is a d...</td>\n",
       "    </tr>\n",
       "    <tr>\n",
       "      <th>1</th>\n",
       "      <td>Ivysaur</td>\n",
       "      <td>Ivysaur (Japanese: フシギソウ Fushigisou) is a dual...</td>\n",
       "    </tr>\n",
       "    <tr>\n",
       "      <th>2</th>\n",
       "      <td>Venusaur</td>\n",
       "      <td>Venusaur (Japanese: フシギバナ Fushigibana) is a du...</td>\n",
       "    </tr>\n",
       "    <tr>\n",
       "      <th>3</th>\n",
       "      <td>Mega Venusaur</td>\n",
       "      <td></td>\n",
       "    </tr>\n",
       "    <tr>\n",
       "      <th>4</th>\n",
       "      <td>Charmander</td>\n",
       "      <td>Charmander (Japanese: ヒトカゲ Hitokage) is a Fire...</td>\n",
       "    </tr>\n",
       "  </tbody>\n",
       "</table>\n",
       "</div>"
      ],
      "text/plain": [
       "         Pokemon                                  Bulba_Description\n",
       "0      Bulbasaur  Bulbasaur (Japanese: フシギダネ Fushigidane) is a d...\n",
       "1        Ivysaur  Ivysaur (Japanese: フシギソウ Fushigisou) is a dual...\n",
       "2       Venusaur  Venusaur (Japanese: フシギバナ Fushigibana) is a du...\n",
       "3  Mega Venusaur                                                   \n",
       "4     Charmander  Charmander (Japanese: ヒトカゲ Hitokage) is a Fire..."
      ]
     },
     "execution_count": 53,
     "metadata": {},
     "output_type": "execute_result"
    }
   ],
   "source": [
    "bulb_df.head()"
   ]
  },
  {
   "cell_type": "code",
   "execution_count": 55,
   "id": "f5562690-d36c-4673-a428-3cd455419d6e",
   "metadata": {},
   "outputs": [],
   "source": [
    "bulb_df.to_csv('bulb_df.csv')"
   ]
  },
  {
   "cell_type": "code",
   "execution_count": 22,
   "id": "b2258a67-2571-4edf-81cf-8c2d21ced086",
   "metadata": {},
   "outputs": [
    {
     "name": "stdout",
     "output_type": "stream",
     "text": [
      "Stored 'bulb_df' (DataFrame)\n"
     ]
    }
   ],
   "source": [
    "%store bulb_df"
   ]
  },
  {
   "cell_type": "code",
   "execution_count": 57,
   "id": "04b0adcf-5a9f-40bc-b1bc-860c5cb958a7",
   "metadata": {},
   "outputs": [
    {
     "data": {
      "text/html": [
       "<div>\n",
       "<style scoped>\n",
       "    .dataframe tbody tr th:only-of-type {\n",
       "        vertical-align: middle;\n",
       "    }\n",
       "\n",
       "    .dataframe tbody tr th {\n",
       "        vertical-align: top;\n",
       "    }\n",
       "\n",
       "    .dataframe thead th {\n",
       "        text-align: right;\n",
       "    }\n",
       "</style>\n",
       "<table border=\"1\" class=\"dataframe\">\n",
       "  <thead>\n",
       "    <tr style=\"text-align: right;\">\n",
       "      <th></th>\n",
       "      <th>Pokemon</th>\n",
       "      <th>Bulba_Description</th>\n",
       "    </tr>\n",
       "  </thead>\n",
       "  <tbody>\n",
       "    <tr>\n",
       "      <th>0</th>\n",
       "      <td>Bulbasaur</td>\n",
       "      <td>Bulbasaur (Japanese: フシギダネ Fushigidane) is a d...</td>\n",
       "    </tr>\n",
       "    <tr>\n",
       "      <th>1</th>\n",
       "      <td>Ivysaur</td>\n",
       "      <td>Ivysaur (Japanese: フシギソウ Fushigisou) is a dual...</td>\n",
       "    </tr>\n",
       "    <tr>\n",
       "      <th>2</th>\n",
       "      <td>Venusaur</td>\n",
       "      <td>Venusaur (Japanese: フシギバナ Fushigibana) is a du...</td>\n",
       "    </tr>\n",
       "    <tr>\n",
       "      <th>3</th>\n",
       "      <td>Mega Venusaur</td>\n",
       "      <td></td>\n",
       "    </tr>\n",
       "    <tr>\n",
       "      <th>4</th>\n",
       "      <td>Charmander</td>\n",
       "      <td>Charmander (Japanese: ヒトカゲ Hitokage) is a Fire...</td>\n",
       "    </tr>\n",
       "  </tbody>\n",
       "</table>\n",
       "</div>"
      ],
      "text/plain": [
       "         Pokemon                                  Bulba_Description\n",
       "0      Bulbasaur  Bulbasaur (Japanese: フシギダネ Fushigidane) is a d...\n",
       "1        Ivysaur  Ivysaur (Japanese: フシギソウ Fushigisou) is a dual...\n",
       "2       Venusaur  Venusaur (Japanese: フシギバナ Fushigibana) is a du...\n",
       "3  Mega Venusaur                                                   \n",
       "4     Charmander  Charmander (Japanese: ヒトカゲ Hitokage) is a Fire..."
      ]
     },
     "execution_count": 57,
     "metadata": {},
     "output_type": "execute_result"
    }
   ],
   "source": [
    "bulb_df.head()"
   ]
  },
  {
   "cell_type": "code",
   "execution_count": 103,
   "id": "55b391de-3ac0-4f3a-90f9-a7a0ab3a496a",
   "metadata": {},
   "outputs": [],
   "source": [
    "%store -r bulb_df"
   ]
  },
  {
   "cell_type": "code",
   "execution_count": 104,
   "id": "d37eb92a-252f-4316-988c-6d9e3bd017c9",
   "metadata": {},
   "outputs": [],
   "source": [
    "#checking for missing entries\n",
    "missing_entries = list(bulb_df[bulb_df.eq(\"\").any(axis=1)][\"Pokemon\"])"
   ]
  },
  {
   "cell_type": "code",
   "execution_count": null,
   "id": "c484c72d-d5c9-41e0-8e5c-197e54a190a5",
   "metadata": {},
   "outputs": [],
   "source": [
    "missing_entries"
   ]
  },
  {
   "cell_type": "code",
   "execution_count": 106,
   "id": "8f07f26a-e3a0-494a-95ae-a213ce00f549",
   "metadata": {},
   "outputs": [],
   "source": [
    "dummydf = bulb_df"
   ]
  },
  {
   "cell_type": "code",
   "execution_count": null,
   "id": "30480132-c567-4337-9887-3815b45f9b95",
   "metadata": {},
   "outputs": [],
   "source": [
    "dummydf.head()"
   ]
  },
  {
   "cell_type": "code",
   "execution_count": 107,
   "id": "abc6f125-d4dc-4f37-92e8-5d13ac15797d",
   "metadata": {},
   "outputs": [],
   "source": [
    "#for pokemon with same pages (Venusaur / Mega Venusaur) fill in with same info\n",
    "for i in range(len(dummydf)):\n",
    "    if any(dummydf.loc[i, \"Pokemon\"] in s for s in missing_entries) and dummydf.loc[i, 'Bulba_Description'] != \"\":\n",
    "        fill_name = dummydf.loc[i, \"Pokemon\"]\n",
    "        fill_text = dummydf.loc[i, \"Bulba_Description\"]\n",
    "        for j in range(len(dummydf)):\n",
    "            if fill_name in dummydf.loc[j, \"Pokemon\"] and dummydf.loc[j, 'Bulba_Description'] == \"\":\n",
    "                #print(fill_name, dummydf.loc[j, \"Pokemon\"], fill_text)\n",
    "                dummydf.loc[bulb_df['Pokemon'] == dummydf.loc[j, \"Pokemon\"], \"Bulba_Description\"] = fill_text\n",
    "    fill_text = \"\"\n",
    "        "
   ]
  },
  {
   "cell_type": "code",
   "execution_count": 124,
   "id": "0abe0449-b6e0-4ce7-ac3c-da7092cdfff1",
   "metadata": {},
   "outputs": [],
   "source": [
    "missing_entries = list(bulb_df[dummydf.eq(\"\").any(axis=1)][\"Pokemon\"])"
   ]
  },
  {
   "cell_type": "code",
   "execution_count": null,
   "id": "fe712b5b-b1af-43fb-a5db-33b58f7a58a5",
   "metadata": {},
   "outputs": [],
   "source": [
    "missing_entries"
   ]
  },
  {
   "cell_type": "code",
   "execution_count": 111,
   "id": "023521bf-b7ee-416c-ab46-188e13dc5302",
   "metadata": {},
   "outputs": [
    {
     "data": {
      "text/plain": [
       "75"
      ]
     },
     "execution_count": 111,
     "metadata": {},
     "output_type": "execute_result"
    }
   ],
   "source": [
    "len(missing_entries)"
   ]
  },
  {
   "cell_type": "code",
   "execution_count": 112,
   "id": "3735e711-c658-4d5c-9382-541818ddb74d",
   "metadata": {},
   "outputs": [
    {
     "name": "stdout",
     "output_type": "stream",
     "text": [
      "Stored 'bulb_df' (DataFrame)\n"
     ]
    }
   ],
   "source": [
    "%store bulb_df"
   ]
  },
  {
   "cell_type": "code",
   "execution_count": 125,
   "id": "04c59566-490b-4498-925c-c75dfedb0a43",
   "metadata": {},
   "outputs": [],
   "source": [
    "missing_dict = {}"
   ]
  },
  {
   "cell_type": "code",
   "execution_count": 126,
   "id": "52fe6484-0e03-43ef-ba04-a571bde48578",
   "metadata": {},
   "outputs": [],
   "source": [
    "#for missing entries that have need to have their bulbapedia website links reformatted (ex: Toxtricity Low Key Form)\n",
    "for i in range(len(missing_entries)):\n",
    "    original = missing_entries[i]\n",
    "    \n",
    "    if \"Mega\" in missing_entries[i]:\n",
    "        missing_entries[i] = missing_entries[i].replace(\"Mega\", \"\")\n",
    "    if \"Galarian\" in missing_entries[i]:\n",
    "        missing_entries[i]= missing_entries[i].replace(\"Galarian\", \"\")\n",
    "    if \"Forme\" in missing_entries[i]:\n",
    "        missing_entries[i]= missing_entries[i].replace(\"Forme\", \"\")\n",
    "    if \"Form\" in missing_entries[i]:\n",
    "        missing_entries[i]= missing_entries[i].replace(\"Form\", \"\")\n",
    "    if \"Style\" in missing_entries[i]:\n",
    "        missing_entries[i]= missing_entries[i].replace(\"Style\", \"\")\n",
    "    if \"Size\" in missing_entries[i]:\n",
    "        missing_entries[i]= missing_entries[i].replace(\"Size\", \"\")\n",
    "    if \"Mode\" in missing_entries[i]:\n",
    "        missing_entries[i]= missing_entries[i].replace(\"Mode\", \"\")\n",
    "\n",
    "    missing_entries[i] = missing_entries[i].strip()\n",
    "\n",
    "    entry = missing_entries[i]\n",
    "\n",
    "    if \" \" in missing_entries[i]:\n",
    "        missing_entries[i] = entry[:entry.index(\" \")]\n",
    "\n",
    "    cleaned = missing_entries[i]\n",
    "\n",
    "    missing_dict[original] = 'https://bulbapedia.bulbagarden.net/wiki/' + cleaned"
   ]
  },
  {
   "cell_type": "code",
   "execution_count": null,
   "id": "a70b3342-663d-498c-8140-7de4fcfc6b02",
   "metadata": {},
   "outputs": [],
   "source": [
    "missing_dict"
   ]
  },
  {
   "cell_type": "code",
   "execution_count": 143,
   "id": "fec5bafd-bd6c-47ec-946b-e8732f956e0e",
   "metadata": {},
   "outputs": [
    {
     "name": "stdout",
     "output_type": "stream",
     "text": [
      "0 Chansey https://bulbapedia.bulbagarden.net/wiki/Chansey\n",
      "invalid\n",
      "1 Mew https://bulbapedia.bulbagarden.net/wiki/Mew\n",
      "invalid\n",
      "2 Ho-oh https://bulbapedia.bulbagarden.net/wiki/Ho-oh\n",
      "3 Deoxys Normal Forme https://bulbapedia.bulbagarden.net/wiki/Deoxys\n",
      "4 Deoxys Attack Forme https://bulbapedia.bulbagarden.net/wiki/Deoxys\n",
      "5 Deoxys Defense Forme https://bulbapedia.bulbagarden.net/wiki/Deoxys\n",
      "6 Deoxys Speed Forme https://bulbapedia.bulbagarden.net/wiki/Deoxys\n",
      "7 Wormadam Plant Cloak https://bulbapedia.bulbagarden.net/wiki/Wormadam\n",
      "8 Wormadam Sandy Cloak https://bulbapedia.bulbagarden.net/wiki/Wormadam\n",
      "9 Wormadam Trash Cloak https://bulbapedia.bulbagarden.net/wiki/Wormadam\n",
      "10 Giratina Altered Forme https://bulbapedia.bulbagarden.net/wiki/Giratina\n",
      "11 Giratina Origin Forme https://bulbapedia.bulbagarden.net/wiki/Giratina\n",
      "12 Shaymin Land Forme https://bulbapedia.bulbagarden.net/wiki/Shaymin\n",
      "13 Shaymin Sky Forme https://bulbapedia.bulbagarden.net/wiki/Shaymin\n",
      "14 Basculin Red-Striped Form https://bulbapedia.bulbagarden.net/wiki/Basculin\n",
      "15 Basculin Blue-Striped Form https://bulbapedia.bulbagarden.net/wiki/Basculin\n",
      "16 Darmanitan Standard Mode https://bulbapedia.bulbagarden.net/wiki/Darmanitan\n",
      "17 Darmanitan Zen Mode https://bulbapedia.bulbagarden.net/wiki/Darmanitan\n",
      "18 Galarian Darmanitan Standard Mode https://bulbapedia.bulbagarden.net/wiki/Darmanitan\n",
      "19 Galarian Darmanitan Zen Mode https://bulbapedia.bulbagarden.net/wiki/Darmanitan\n",
      "20 Tornadus Incarnate Forme https://bulbapedia.bulbagarden.net/wiki/Tornadus\n",
      "21 Tornadus Therian Forme https://bulbapedia.bulbagarden.net/wiki/Tornadus\n",
      "22 Thundurus Incarnate Forme https://bulbapedia.bulbagarden.net/wiki/Thundurus\n",
      "23 Thundurus Therian Forme https://bulbapedia.bulbagarden.net/wiki/Thundurus\n",
      "24 Landorus Incarnate Forme https://bulbapedia.bulbagarden.net/wiki/Landorus\n",
      "25 Landorus Therian Forme https://bulbapedia.bulbagarden.net/wiki/Landorus\n",
      "26 Keldeo Ordinary Forme https://bulbapedia.bulbagarden.net/wiki/Keldeo\n",
      "27 Keldeo Resolute Forme https://bulbapedia.bulbagarden.net/wiki/Keldeo\n",
      "28 Meloetta Aria Forme https://bulbapedia.bulbagarden.net/wiki/Meloetta\n",
      "29 Meloetta Pirouette Forme https://bulbapedia.bulbagarden.net/wiki/Meloetta\n",
      "30 Meowstic Male https://bulbapedia.bulbagarden.net/wiki/Meowstic\n",
      "31 Meowstic Female https://bulbapedia.bulbagarden.net/wiki/Meowstic\n",
      "32 Aegislash Blade Forme https://bulbapedia.bulbagarden.net/wiki/Aegislash\n",
      "33 Aegislash Shield Forme https://bulbapedia.bulbagarden.net/wiki/Aegislash\n",
      "34 Pumpkaboo Average Size https://bulbapedia.bulbagarden.net/wiki/Pumpkaboo\n",
      "35 Pumpkaboo Small Size https://bulbapedia.bulbagarden.net/wiki/Pumpkaboo\n",
      "36 Pumpkaboo Large Size https://bulbapedia.bulbagarden.net/wiki/Pumpkaboo\n",
      "37 Pumpkaboo Super Size https://bulbapedia.bulbagarden.net/wiki/Pumpkaboo\n",
      "38 Gourgeist Average Size https://bulbapedia.bulbagarden.net/wiki/Gourgeist\n",
      "39 Gourgeist Small Size https://bulbapedia.bulbagarden.net/wiki/Gourgeist\n",
      "40 Gourgeist Large Size https://bulbapedia.bulbagarden.net/wiki/Gourgeist\n",
      "41 Gourgeist Super Size https://bulbapedia.bulbagarden.net/wiki/Gourgeist\n",
      "42 Zygarde 50% Forme https://bulbapedia.bulbagarden.net/wiki/Zygarde\n",
      "43 Zygarde 10% Forme https://bulbapedia.bulbagarden.net/wiki/Zygarde\n",
      "44 Zygarde Complete Forme https://bulbapedia.bulbagarden.net/wiki/Zygarde\n",
      "45 Hoopa Hoopa Confined https://bulbapedia.bulbagarden.net/wiki/Hoopa\n",
      "46 Hoopa Hoopa Unbound https://bulbapedia.bulbagarden.net/wiki/Hoopa\n",
      "47 Oricorio Baile Style https://bulbapedia.bulbagarden.net/wiki/Oricorio\n",
      "48 Oricorio Pom-Pom Style https://bulbapedia.bulbagarden.net/wiki/Oricorio\n",
      "49 Oricorio Pa'u Style https://bulbapedia.bulbagarden.net/wiki/Oricorio\n",
      "50 Oricorio Sensu Style https://bulbapedia.bulbagarden.net/wiki/Oricorio\n",
      "51 Lycanroc Midday Form https://bulbapedia.bulbagarden.net/wiki/Lycanroc\n",
      "52 Lycanroc Midnight Form https://bulbapedia.bulbagarden.net/wiki/Lycanroc\n",
      "53 Lycanroc Dusk Form https://bulbapedia.bulbagarden.net/wiki/Lycanroc\n",
      "54 Wishiwashi Solo Form https://bulbapedia.bulbagarden.net/wiki/Wishiwashi\n",
      "55 Wishiwashi School Form https://bulbapedia.bulbagarden.net/wiki/Wishiwashi\n",
      "56 Minior Meteor Form https://bulbapedia.bulbagarden.net/wiki/Minior\n",
      "57 Minior Core Form https://bulbapedia.bulbagarden.net/wiki/Minior\n",
      "58 Kartana https://bulbapedia.bulbagarden.net/wiki/Kartana\n",
      "invalid\n",
      "59 Drizzile https://bulbapedia.bulbagarden.net/wiki/Drizzile\n",
      "invalid\n",
      "60 Toxtricity Low Key Form https://bulbapedia.bulbagarden.net/wiki/Toxtricity\n",
      "61 Toxtricity Amped Form https://bulbapedia.bulbagarden.net/wiki/Toxtricity\n",
      "62 Polteageist https://bulbapedia.bulbagarden.net/wiki/Polteageist\n",
      "invalid\n",
      "63 Eiscue Ice Face https://bulbapedia.bulbagarden.net/wiki/Eiscue\n",
      "64 Eiscue Noice Face https://bulbapedia.bulbagarden.net/wiki/Eiscue\n",
      "65 Indeedee Male https://bulbapedia.bulbagarden.net/wiki/Indeedee\n",
      "66 Indeedee Female https://bulbapedia.bulbagarden.net/wiki/Indeedee\n",
      "67 Morpeko Full Belly Mode https://bulbapedia.bulbagarden.net/wiki/Morpeko\n",
      "68 Morpeko Hangry Mode https://bulbapedia.bulbagarden.net/wiki/Morpeko\n",
      "69 Zacian Crowned Sword https://bulbapedia.bulbagarden.net/wiki/Zacian\n",
      "70 Zacian Hero of Many Battles https://bulbapedia.bulbagarden.net/wiki/Zacian\n",
      "71 Zamazenta Crowned Shield https://bulbapedia.bulbagarden.net/wiki/Zamazenta\n",
      "72 Zamazenta Hero of Many Battles https://bulbapedia.bulbagarden.net/wiki/Zamazenta\n",
      "73 Urshifu Single Strike Style https://bulbapedia.bulbagarden.net/wiki/Urshifu\n",
      "74 Urshifu Rapid Strike Style https://bulbapedia.bulbagarden.net/wiki/Urshifu\n"
     ]
    }
   ],
   "source": [
    "for i, (key, value) in enumerate(missing_dict.items()):\n",
    "    target_url = value\n",
    "    \n",
    "    print(i, key, value)\n",
    "    \n",
    "    options= Options()\n",
    "    options.add_argument(\"-headless\")\n",
    "    driver = webdriver.Firefox(options=options)\n",
    "    driver.execute_script(f\"location.href='{target_url}';\")\n",
    "    time.sleep(5)\n",
    "    resp = driver.page_source\n",
    "    soup = BeautifulSoup(resp)\n",
    "\n",
    "    driver.close()\n",
    "\n",
    "    start = soup.select_one(\".mw-parser-output > p:nth-child(3)\")\n",
    "    end = soup.find(\"div\", {\"id\":\"toc\"})\n",
    "    \n",
    "    paragraphs = \"\"\n",
    "    current = start\n",
    "    try:\n",
    "        while current.next_sibling != end:\n",
    "            paragraphs+=current.get_text()\n",
    "            current = current.next_sibling\n",
    "    except:\n",
    "        print(\"invalid\")\n",
    "        \n",
    "    bulb_df.loc[bulb_df['Pokemon'] == key, \"Bulba_Description\"] = paragraphs"
   ]
  },
  {
   "cell_type": "code",
   "execution_count": 144,
   "id": "8885db4c-f278-4504-bdd9-0b18a16c7993",
   "metadata": {},
   "outputs": [],
   "source": [
    "missing_entries = list(bulb_df[bulb_df.eq(\"\").any(axis=1)][\"Pokemon\"])"
   ]
  },
  {
   "cell_type": "code",
   "execution_count": 145,
   "id": "d556252f-060a-4fa1-b63a-b0e3b4054ff4",
   "metadata": {},
   "outputs": [
    {
     "data": {
      "text/plain": [
       "['Chansey', 'Mew', 'Kartana', 'Drizzile', 'Polteageist']"
      ]
     },
     "execution_count": 145,
     "metadata": {},
     "output_type": "execute_result"
    }
   ],
   "source": [
    "#since so few missing entries, manually just grabbing the last few\n",
    "missing_entries"
   ]
  },
  {
   "cell_type": "code",
   "execution_count": 146,
   "id": "81aae35f-e570-4a77-8d37-49288c2045e0",
   "metadata": {},
   "outputs": [],
   "source": [
    "chans_str = \"Chansey (Japanese: ラッキー Lucky) is a Normal-type Pokémon introduced in Generation I.\\n It evolves from Happiny when leveled up while holding an Oval Stone during the day and evolves into Blissey when leveled up with high friendship. \""
   ]
  },
  {
   "cell_type": "code",
   "execution_count": 147,
   "id": "697ae71c-59d3-4418-b3b8-f278bad9a0f2",
   "metadata": {},
   "outputs": [],
   "source": [
    "mew_str = \"Mew (Japanese: ミュウ Mew) is a Psychic-type Mythical Pokémon introduced in Generation I.\\n It is not known to evolve into or from any other Pokémon.\\n Mew is notable for its unique ability to learn every Technical Machine, Technical Record, Hidden Machine, and Move Tutor move (except those exclusive to a particular Pokémon or group of Pokémon, such as Volt Tackle and Secret Sword).\\n It is a member of the Mew duo along with Mewtwo.\""
   ]
  },
  {
   "cell_type": "code",
   "execution_count": 148,
   "id": "fd906076-52d9-44ba-b51d-80989fdc0dca",
   "metadata": {},
   "outputs": [],
   "source": [
    "kartana_str = \"Kartana (Japanese: カミツルギ Kamiturugi) is a dual-type Grass/Steel Ultra Beast introduced in Generation VII.\\n It is not known to evolve into or from any other Pokémon.\\n It is code named UB-04 Blade (Japanese: UB04 Slash).\"\n"
   ]
  },
  {
   "cell_type": "code",
   "execution_count": 149,
   "id": "027262a1-fc75-42b8-87aa-c1f715bc8de5",
   "metadata": {},
   "outputs": [],
   "source": [
    "driz_str=\"Drizzile (Japanese: ジメレオン Jimereon) is a Water-type Pokémon introduced in Generation VIII.\\n It evolves from Sobble starting at level 16 and evolves into Inteleon starting at level 35. \"\n"
   ]
  },
  {
   "cell_type": "code",
   "execution_count": 150,
   "id": "1e744def-dd5f-49a2-9aa9-e343f899d9a5",
   "metadata": {},
   "outputs": [],
   "source": [
    "poltea_str = \"Polteageist (Japanese: ポットデス Potdeath) is a Ghost-type Pokémon introduced in Generation VIII.\\n It evolves from Sinistea when exposed to a Cracked Pot or a Chipped Pot, depending on Sinistea's form. Polteageist's form will be the same as it was as a Sinistea.\\n The Phony Form[1][2] (if it lacks a stamp of authenticity) requires a Cracked Pot to evolve.\\n The Antique Form[1][3] (if it has a stamp of authenticity) requires a Chipped Pot to evolve.\\n\\n It is ecologically similar to Sinistcha; however, the two are separate species. \"\n"
   ]
  },
  {
   "cell_type": "code",
   "execution_count": 151,
   "id": "a5f773ab-618f-4ac0-8c8d-1cf80e64cd1c",
   "metadata": {},
   "outputs": [],
   "source": [
    "bulb_df.loc[bulb_df['Pokemon'] == \"Chansey\", \"Bulba_Description\"] = chans_str\n",
    "bulb_df.loc[bulb_df['Pokemon'] == 'Mew', \"Bulba_Description\"] = mew_str\n",
    "bulb_df.loc[bulb_df['Pokemon'] == 'Kartana', \"Bulba_Description\"] = kartana_str\n",
    "bulb_df.loc[bulb_df['Pokemon'] == 'Drizzile', \"Bulba_Description\"] =driz_str\n",
    "bulb_df.loc[bulb_df['Pokemon'] == 'Polteageist', \"Bulba_Description\"] =poltea_str"
   ]
  },
  {
   "cell_type": "code",
   "execution_count": 152,
   "id": "1bfaa536-9bfa-419b-806b-e63b251d81a1",
   "metadata": {},
   "outputs": [
    {
     "name": "stdout",
     "output_type": "stream",
     "text": [
      "Stored 'bulb_df' (DataFrame)\n"
     ]
    }
   ],
   "source": [
    "%store bulb_df"
   ]
  },
  {
   "cell_type": "code",
   "execution_count": null,
   "id": "9da8da31-1cba-4be6-92fa-25fc736b76c0",
   "metadata": {},
   "outputs": [],
   "source": []
  }
 ],
 "metadata": {
  "kernelspec": {
   "display_name": "Python 3 (ipykernel)",
   "language": "python",
   "name": "python3"
  },
  "language_info": {
   "codemirror_mode": {
    "name": "ipython",
    "version": 3
   },
   "file_extension": ".py",
   "mimetype": "text/x-python",
   "name": "python",
   "nbconvert_exporter": "python",
   "pygments_lexer": "ipython3",
   "version": "3.11.4"
  }
 },
 "nbformat": 4,
 "nbformat_minor": 5
}
